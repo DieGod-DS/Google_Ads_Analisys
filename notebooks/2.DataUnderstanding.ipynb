{
 "cells": [
  {
   "cell_type": "markdown",
   "id": "71de1735",
   "metadata": {},
   "source": [
    "# Entendimento dos Dados"
   ]
  },
  {
   "cell_type": "code",
   "execution_count": 1,
   "id": "0777feaf",
   "metadata": {},
   "outputs": [],
   "source": [
    "# importando bibliotecas\n",
    "import os # manipulação de pastas\n",
    "import warnings # exibe avisos\n",
    "import pandas as pd # manipulação de tabelas\n",
    "\n",
    "warnings.filterwarnings('ignore')"
   ]
  },
  {
   "cell_type": "code",
   "execution_count": 2,
   "id": "e06417e8",
   "metadata": {},
   "outputs": [],
   "source": [
    "# importando conjunto de dados\n",
    "df = pd.read_csv('../data/raw/google_ads_data.csv')"
   ]
  },
  {
   "cell_type": "code",
   "execution_count": null,
   "id": "1ac91b7e",
   "metadata": {},
   "outputs": [
    {
     "data": {
      "text/html": [
       "<div>\n",
       "<style scoped>\n",
       "    .dataframe tbody tr th:only-of-type {\n",
       "        vertical-align: middle;\n",
       "    }\n",
       "\n",
       "    .dataframe tbody tr th {\n",
       "        vertical-align: top;\n",
       "    }\n",
       "\n",
       "    .dataframe thead th {\n",
       "        text-align: right;\n",
       "    }\n",
       "</style>\n",
       "<table border=\"1\" class=\"dataframe\">\n",
       "  <thead>\n",
       "    <tr style=\"text-align: right;\">\n",
       "      <th></th>\n",
       "      <th>Ad_ID</th>\n",
       "      <th>Campaign_Name</th>\n",
       "      <th>Clicks</th>\n",
       "      <th>Impressions</th>\n",
       "      <th>Cost</th>\n",
       "      <th>Leads</th>\n",
       "      <th>Conversions</th>\n",
       "      <th>Conversion Rate</th>\n",
       "      <th>Sale_Amount</th>\n",
       "      <th>Ad_Date</th>\n",
       "      <th>Location</th>\n",
       "      <th>Device</th>\n",
       "      <th>Keyword</th>\n",
       "    </tr>\n",
       "  </thead>\n",
       "  <tbody>\n",
       "    <tr>\n",
       "      <th>0</th>\n",
       "      <td>A1000</td>\n",
       "      <td>DataAnalyticsCourse</td>\n",
       "      <td>104.0</td>\n",
       "      <td>4498.0</td>\n",
       "      <td>$231.88</td>\n",
       "      <td>14.0</td>\n",
       "      <td>7.0</td>\n",
       "      <td>0.058</td>\n",
       "      <td>$1892</td>\n",
       "      <td>2024-11-16</td>\n",
       "      <td>hyderabad</td>\n",
       "      <td>desktop</td>\n",
       "      <td>learn data analytics</td>\n",
       "    </tr>\n",
       "    <tr>\n",
       "      <th>1</th>\n",
       "      <td>A1001</td>\n",
       "      <td>DataAnalyticsCourse</td>\n",
       "      <td>173.0</td>\n",
       "      <td>5107.0</td>\n",
       "      <td>$216.84</td>\n",
       "      <td>10.0</td>\n",
       "      <td>8.0</td>\n",
       "      <td>0.046</td>\n",
       "      <td>$1679</td>\n",
       "      <td>20-11-2024</td>\n",
       "      <td>hyderabad</td>\n",
       "      <td>mobile</td>\n",
       "      <td>data analytics course</td>\n",
       "    </tr>\n",
       "    <tr>\n",
       "      <th>2</th>\n",
       "      <td>A1002</td>\n",
       "      <td>Data Anlytics Corse</td>\n",
       "      <td>90.0</td>\n",
       "      <td>4544.0</td>\n",
       "      <td>$203.66</td>\n",
       "      <td>26.0</td>\n",
       "      <td>9.0</td>\n",
       "      <td>NaN</td>\n",
       "      <td>$1624</td>\n",
       "      <td>2024/11/16</td>\n",
       "      <td>hyderabad</td>\n",
       "      <td>Desktop</td>\n",
       "      <td>data analitics online</td>\n",
       "    </tr>\n",
       "    <tr>\n",
       "      <th>3</th>\n",
       "      <td>A1003</td>\n",
       "      <td>Data Analytcis Course</td>\n",
       "      <td>142.0</td>\n",
       "      <td>3185.0</td>\n",
       "      <td>$237.66</td>\n",
       "      <td>17.0</td>\n",
       "      <td>6.0</td>\n",
       "      <td>NaN</td>\n",
       "      <td>$1225</td>\n",
       "      <td>2024-11-26</td>\n",
       "      <td>HYDERABAD</td>\n",
       "      <td>tablet</td>\n",
       "      <td>data anaytics training</td>\n",
       "    </tr>\n",
       "    <tr>\n",
       "      <th>4</th>\n",
       "      <td>A1004</td>\n",
       "      <td>Data Analytics Corse</td>\n",
       "      <td>156.0</td>\n",
       "      <td>3361.0</td>\n",
       "      <td>$195.9</td>\n",
       "      <td>30.0</td>\n",
       "      <td>8.0</td>\n",
       "      <td>NaN</td>\n",
       "      <td>$1091</td>\n",
       "      <td>2024-11-22</td>\n",
       "      <td>hyderabad</td>\n",
       "      <td>desktop</td>\n",
       "      <td>online data analytic</td>\n",
       "    </tr>\n",
       "  </tbody>\n",
       "</table>\n",
       "</div>"
      ],
      "text/plain": [
       "   Ad_ID          Campaign_Name  Clicks  Impressions     Cost  Leads  \\\n",
       "0  A1000    DataAnalyticsCourse   104.0       4498.0  $231.88   14.0   \n",
       "1  A1001    DataAnalyticsCourse   173.0       5107.0  $216.84   10.0   \n",
       "2  A1002    Data Anlytics Corse    90.0       4544.0  $203.66   26.0   \n",
       "3  A1003  Data Analytcis Course   142.0       3185.0  $237.66   17.0   \n",
       "4  A1004   Data Analytics Corse   156.0       3361.0   $195.9   30.0   \n",
       "\n",
       "   Conversions  Conversion Rate Sale_Amount     Ad_Date   Location   Device  \\\n",
       "0          7.0            0.058       $1892  2024-11-16  hyderabad  desktop   \n",
       "1          8.0            0.046       $1679  20-11-2024  hyderabad   mobile   \n",
       "2          9.0              NaN       $1624  2024/11/16  hyderabad  Desktop   \n",
       "3          6.0              NaN       $1225  2024-11-26  HYDERABAD   tablet   \n",
       "4          8.0              NaN       $1091  2024-11-22  hyderabad  desktop   \n",
       "\n",
       "                  Keyword  \n",
       "0    learn data analytics  \n",
       "1   data analytics course  \n",
       "2   data analitics online  \n",
       "3  data anaytics training  \n",
       "4    online data analytic  "
      ]
     },
     "execution_count": 3,
     "metadata": {},
     "output_type": "execute_result"
    }
   ],
   "source": [
    "# exibe os 5 primeiros registros\n",
    "df.head()"
   ]
  },
  {
   "cell_type": "code",
   "execution_count": 4,
   "id": "a421bc2e",
   "metadata": {},
   "outputs": [
    {
     "name": "stdout",
     "output_type": "stream",
     "text": [
      "<class 'pandas.core.frame.DataFrame'>\n",
      "RangeIndex: 2600 entries, 0 to 2599\n",
      "Data columns (total 13 columns):\n",
      " #   Column           Non-Null Count  Dtype  \n",
      "---  ------           --------------  -----  \n",
      " 0   Ad_ID            2600 non-null   object \n",
      " 1   Campaign_Name    2600 non-null   object \n",
      " 2   Clicks           2488 non-null   float64\n",
      " 3   Impressions      2546 non-null   float64\n",
      " 4   Cost             2503 non-null   object \n",
      " 5   Leads            2552 non-null   float64\n",
      " 6   Conversions      2526 non-null   float64\n",
      " 7   Conversion Rate  1974 non-null   float64\n",
      " 8   Sale_Amount      2461 non-null   object \n",
      " 9   Ad_Date          2600 non-null   object \n",
      " 10  Location         2600 non-null   object \n",
      " 11  Device           2600 non-null   object \n",
      " 12  Keyword          2600 non-null   object \n",
      "dtypes: float64(5), object(8)\n",
      "memory usage: 264.2+ KB\n"
     ]
    }
   ],
   "source": [
    "# informções gerais sobre o conjunto de dados\n",
    "df.info()"
   ]
  },
  {
   "cell_type": "code",
   "execution_count": 5,
   "id": "020629bf",
   "metadata": {},
   "outputs": [
    {
     "data": {
      "text/plain": [
       "0"
      ]
     },
     "execution_count": 5,
     "metadata": {},
     "output_type": "execute_result"
    }
   ],
   "source": [
    "# soma a quantidade de registros duplicados no conjunto de dados\n",
    "df.duplicated().sum()"
   ]
  },
  {
   "cell_type": "code",
   "execution_count": null,
   "id": "ee3159e2",
   "metadata": {},
   "outputs": [
    {
     "data": {
      "text/plain": [
       "Ad_ID                0\n",
       "Campaign_Name        0\n",
       "Clicks             112\n",
       "Impressions         54\n",
       "Cost                97\n",
       "Leads               48\n",
       "Conversions         74\n",
       "Conversion Rate    626\n",
       "Sale_Amount        139\n",
       "Ad_Date              0\n",
       "Location             0\n",
       "Device               0\n",
       "Keyword              0\n",
       "dtype: int64"
      ]
     },
     "execution_count": 6,
     "metadata": {},
     "output_type": "execute_result"
    }
   ],
   "source": [
    "# soma a quantidade de valores nulos por coluna\n",
    "df.isnull().sum()"
   ]
  },
  {
   "cell_type": "markdown",
   "id": "18940301",
   "metadata": {},
   "source": [
    "**Observações:**\n",
    "- Notamos algumas inconcistências em algumas colunas ao não ter um padrão para o nome das categorias, algumas possuindo espaçamentos ou caracteres modificados.\n",
    "- A coluna de data também não apresenta um padrão específico, algumas sendo separadas por \"-\" e outras por \"/\". \n",
    "- Há valores nulos em algumas variáveis como Clicks, Impressions... Devemos analisar o que motiva esses valores estarem nulos para decidir se faz sentido que permaneçam assim ou os preencheremos.\n",
    "- Nas variáveis `Cost` e `Sale_Amount` contém presença de caracteres especias, mas é uma variável numérica, logo precisamos remover tais caracteres e corrigir o tipo de dados.\n",
    "- Aparentemente não há linhas duplicadas."
   ]
  },
  {
   "cell_type": "markdown",
   "id": "84e5d5e2",
   "metadata": {},
   "source": []
  }
 ],
 "metadata": {
  "kernelspec": {
   "display_name": "base",
   "language": "python",
   "name": "python3"
  },
  "language_info": {
   "codemirror_mode": {
    "name": "ipython",
    "version": 3
   },
   "file_extension": ".py",
   "mimetype": "text/x-python",
   "name": "python",
   "nbconvert_exporter": "python",
   "pygments_lexer": "ipython3",
   "version": "3.9.13"
  }
 },
 "nbformat": 4,
 "nbformat_minor": 5
}
