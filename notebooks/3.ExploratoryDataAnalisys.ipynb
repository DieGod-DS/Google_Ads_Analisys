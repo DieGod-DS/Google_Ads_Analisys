{
 "cells": [
  {
   "cell_type": "markdown",
   "id": "2d971aa4",
   "metadata": {},
   "source": [
    "# Análise Exploratória de Dados"
   ]
  },
  {
   "cell_type": "code",
   "execution_count": 1,
   "id": "61369c03",
   "metadata": {},
   "outputs": [],
   "source": [
    "# importando bibliotecas\n",
    "import os # manipulação de pastas\n",
    "import warnings # exibe avisos\n",
    "import numpy as np # manipulação numérica e matricial\n",
    "import pandas as pd # manipulação de tabelas\n",
    "import seaborn as sns # geração de gráficos\n",
    "import matplotlib.pyplot as plt # geração de gráficos\n",
    "\n",
    "warnings.filterwarnings('ignore')"
   ]
  },
  {
   "cell_type": "code",
   "execution_count": 2,
   "id": "e60fe79e",
   "metadata": {},
   "outputs": [],
   "source": [
    "# importando conjunto de dados\n",
    "df = pd.read_csv('../data/raw/google_ads_data.csv')"
   ]
  },
  {
   "cell_type": "code",
   "execution_count": 3,
   "id": "429d8d9b",
   "metadata": {},
   "outputs": [
    {
     "name": "stdout",
     "output_type": "stream",
     "text": [
      "<class 'pandas.core.frame.DataFrame'>\n",
      "RangeIndex: 2600 entries, 0 to 2599\n",
      "Data columns (total 13 columns):\n",
      " #   Column           Non-Null Count  Dtype  \n",
      "---  ------           --------------  -----  \n",
      " 0   Ad_ID            2600 non-null   object \n",
      " 1   Campaign_Name    2600 non-null   object \n",
      " 2   Clicks           2488 non-null   float64\n",
      " 3   Impressions      2546 non-null   float64\n",
      " 4   Cost             2503 non-null   object \n",
      " 5   Leads            2552 non-null   float64\n",
      " 6   Conversions      2526 non-null   float64\n",
      " 7   Conversion Rate  1974 non-null   float64\n",
      " 8   Sale_Amount      2461 non-null   object \n",
      " 9   Ad_Date          2600 non-null   object \n",
      " 10  Location         2600 non-null   object \n",
      " 11  Device           2600 non-null   object \n",
      " 12  Keyword          2600 non-null   object \n",
      "dtypes: float64(5), object(8)\n",
      "memory usage: 264.2+ KB\n"
     ]
    }
   ],
   "source": [
    "df.info()"
   ]
  },
  {
   "cell_type": "markdown",
   "id": "98a6925d",
   "metadata": {},
   "source": [
    "----"
   ]
  },
  {
   "cell_type": "markdown",
   "id": "c2caedb3",
   "metadata": {},
   "source": [
    "## 1. Tratamento dos Dados"
   ]
  },
  {
   "cell_type": "code",
   "execution_count": 4,
   "id": "05dd53f7",
   "metadata": {},
   "outputs": [
    {
     "data": {
      "text/html": [
       "<div>\n",
       "<style scoped>\n",
       "    .dataframe tbody tr th:only-of-type {\n",
       "        vertical-align: middle;\n",
       "    }\n",
       "\n",
       "    .dataframe tbody tr th {\n",
       "        vertical-align: top;\n",
       "    }\n",
       "\n",
       "    .dataframe thead th {\n",
       "        text-align: right;\n",
       "    }\n",
       "</style>\n",
       "<table border=\"1\" class=\"dataframe\">\n",
       "  <thead>\n",
       "    <tr style=\"text-align: right;\">\n",
       "      <th></th>\n",
       "      <th>Ad_ID</th>\n",
       "      <th>Campaign_Name</th>\n",
       "      <th>Clicks</th>\n",
       "      <th>Impressions</th>\n",
       "      <th>Cost</th>\n",
       "      <th>Leads</th>\n",
       "      <th>Conversions</th>\n",
       "      <th>Conversion Rate</th>\n",
       "      <th>Sale_Amount</th>\n",
       "      <th>Ad_Date</th>\n",
       "      <th>Location</th>\n",
       "      <th>Device</th>\n",
       "      <th>Keyword</th>\n",
       "    </tr>\n",
       "  </thead>\n",
       "  <tbody>\n",
       "    <tr>\n",
       "      <th>0</th>\n",
       "      <td>A1000</td>\n",
       "      <td>DataAnalyticsCourse</td>\n",
       "      <td>104.0</td>\n",
       "      <td>4498.0</td>\n",
       "      <td>$231.88</td>\n",
       "      <td>14.0</td>\n",
       "      <td>7.0</td>\n",
       "      <td>0.058</td>\n",
       "      <td>$1892</td>\n",
       "      <td>2024-11-16</td>\n",
       "      <td>hyderabad</td>\n",
       "      <td>desktop</td>\n",
       "      <td>learn data analytics</td>\n",
       "    </tr>\n",
       "    <tr>\n",
       "      <th>1</th>\n",
       "      <td>A1001</td>\n",
       "      <td>DataAnalyticsCourse</td>\n",
       "      <td>173.0</td>\n",
       "      <td>5107.0</td>\n",
       "      <td>$216.84</td>\n",
       "      <td>10.0</td>\n",
       "      <td>8.0</td>\n",
       "      <td>0.046</td>\n",
       "      <td>$1679</td>\n",
       "      <td>20-11-2024</td>\n",
       "      <td>hyderabad</td>\n",
       "      <td>mobile</td>\n",
       "      <td>data analytics course</td>\n",
       "    </tr>\n",
       "    <tr>\n",
       "      <th>2</th>\n",
       "      <td>A1002</td>\n",
       "      <td>Data Anlytics Corse</td>\n",
       "      <td>90.0</td>\n",
       "      <td>4544.0</td>\n",
       "      <td>$203.66</td>\n",
       "      <td>26.0</td>\n",
       "      <td>9.0</td>\n",
       "      <td>NaN</td>\n",
       "      <td>$1624</td>\n",
       "      <td>2024/11/16</td>\n",
       "      <td>hyderabad</td>\n",
       "      <td>Desktop</td>\n",
       "      <td>data analitics online</td>\n",
       "    </tr>\n",
       "    <tr>\n",
       "      <th>3</th>\n",
       "      <td>A1003</td>\n",
       "      <td>Data Analytcis Course</td>\n",
       "      <td>142.0</td>\n",
       "      <td>3185.0</td>\n",
       "      <td>$237.66</td>\n",
       "      <td>17.0</td>\n",
       "      <td>6.0</td>\n",
       "      <td>NaN</td>\n",
       "      <td>$1225</td>\n",
       "      <td>2024-11-26</td>\n",
       "      <td>HYDERABAD</td>\n",
       "      <td>tablet</td>\n",
       "      <td>data anaytics training</td>\n",
       "    </tr>\n",
       "    <tr>\n",
       "      <th>4</th>\n",
       "      <td>A1004</td>\n",
       "      <td>Data Analytics Corse</td>\n",
       "      <td>156.0</td>\n",
       "      <td>3361.0</td>\n",
       "      <td>$195.9</td>\n",
       "      <td>30.0</td>\n",
       "      <td>8.0</td>\n",
       "      <td>NaN</td>\n",
       "      <td>$1091</td>\n",
       "      <td>2024-11-22</td>\n",
       "      <td>hyderabad</td>\n",
       "      <td>desktop</td>\n",
       "      <td>online data analytic</td>\n",
       "    </tr>\n",
       "  </tbody>\n",
       "</table>\n",
       "</div>"
      ],
      "text/plain": [
       "   Ad_ID          Campaign_Name  Clicks  Impressions     Cost  Leads  \\\n",
       "0  A1000    DataAnalyticsCourse   104.0       4498.0  $231.88   14.0   \n",
       "1  A1001    DataAnalyticsCourse   173.0       5107.0  $216.84   10.0   \n",
       "2  A1002    Data Anlytics Corse    90.0       4544.0  $203.66   26.0   \n",
       "3  A1003  Data Analytcis Course   142.0       3185.0  $237.66   17.0   \n",
       "4  A1004   Data Analytics Corse   156.0       3361.0   $195.9   30.0   \n",
       "\n",
       "   Conversions  Conversion Rate Sale_Amount     Ad_Date   Location   Device  \\\n",
       "0          7.0            0.058       $1892  2024-11-16  hyderabad  desktop   \n",
       "1          8.0            0.046       $1679  20-11-2024  hyderabad   mobile   \n",
       "2          9.0              NaN       $1624  2024/11/16  hyderabad  Desktop   \n",
       "3          6.0              NaN       $1225  2024-11-26  HYDERABAD   tablet   \n",
       "4          8.0              NaN       $1091  2024-11-22  hyderabad  desktop   \n",
       "\n",
       "                  Keyword  \n",
       "0    learn data analytics  \n",
       "1   data analytics course  \n",
       "2   data analitics online  \n",
       "3  data anaytics training  \n",
       "4    online data analytic  "
      ]
     },
     "execution_count": 4,
     "metadata": {},
     "output_type": "execute_result"
    }
   ],
   "source": [
    "df.head()"
   ]
  },
  {
   "cell_type": "code",
   "execution_count": 5,
   "id": "3fe42df2",
   "metadata": {},
   "outputs": [
    {
     "name": "stdout",
     "output_type": "stream",
     "text": [
      "AD_ID\n",
      "A1000    1\n",
      "A2746    1\n",
      "A2728    1\n",
      "A2729    1\n",
      "A2730    1\n",
      "        ..\n",
      "A1868    1\n",
      "A1869    1\n",
      "A1870    1\n",
      "A1871    1\n",
      "A3599    1\n",
      "Name: Ad_ID, Length: 2600, dtype: int64\n",
      "__________________________________________________\n",
      "CAMPAIGN_NAME\n",
      "Data Analytcis Course    680\n",
      "Data Analytics Corse     647\n",
      "DataAnalyticsCourse      637\n",
      "Data Anlytics Corse      636\n",
      "Name: Campaign_Name, dtype: int64\n",
      "__________________________________________________\n",
      "CLICKS\n",
      "127.0    34\n",
      "148.0    32\n",
      "89.0     29\n",
      "146.0    28\n",
      "151.0    28\n",
      "         ..\n",
      "107.0    13\n",
      "129.0    13\n",
      "159.0    12\n",
      "161.0    12\n",
      "158.0    11\n",
      "Name: Clicks, Length: 120, dtype: int64\n",
      "__________________________________________________\n",
      "IMPRESSIONS\n",
      "4653.0    6\n",
      "4441.0    5\n",
      "5509.0    5\n",
      "5545.0    5\n",
      "3948.0    5\n",
      "         ..\n",
      "4224.0    1\n",
      "3579.0    1\n",
      "3188.0    1\n",
      "5493.0    1\n",
      "5453.0    1\n",
      "Name: Impressions, Length: 1702, dtype: int64\n",
      "__________________________________________________\n",
      "COST\n",
      "$246.3     4\n",
      "$218.69    4\n",
      "$219.15    4\n",
      "$245.13    4\n",
      "$249.33    4\n",
      "          ..\n",
      "$223.28    1\n",
      "$221.65    1\n",
      "$214.29    1\n",
      "$191.68    1\n",
      "$220.13    1\n",
      "Name: Cost, Length: 2106, dtype: int64\n",
      "__________________________________________________\n",
      "LEADS\n",
      "24.0    134\n",
      "27.0    133\n",
      "23.0    131\n",
      "10.0    129\n",
      "20.0    128\n",
      "15.0    127\n",
      "26.0    126\n",
      "16.0    126\n",
      "25.0    126\n",
      "14.0    125\n",
      "21.0    124\n",
      "12.0    124\n",
      "28.0    120\n",
      "17.0    119\n",
      "30.0    116\n",
      "11.0    114\n",
      "22.0    114\n",
      "19.0    112\n",
      "13.0    112\n",
      "18.0    106\n",
      "29.0    106\n",
      "Name: Leads, dtype: int64\n",
      "__________________________________________________\n",
      "CONVERSIONS\n",
      "7.0     345\n",
      "9.0     330\n",
      "5.0     324\n",
      "4.0     313\n",
      "10.0    306\n",
      "8.0     304\n",
      "6.0     302\n",
      "3.0     302\n",
      "Name: Conversions, dtype: int64\n",
      "__________________________________________________\n",
      "CONVERSION RATE\n",
      "0.036    51\n",
      "0.050    51\n",
      "0.045    51\n",
      "0.037    50\n",
      "0.038    49\n",
      "         ..\n",
      "0.119     2\n",
      "0.114     1\n",
      "0.123     1\n",
      "0.113     1\n",
      "0.109     1\n",
      "Name: Conversion Rate, Length: 105, dtype: int64\n",
      "__________________________________________________\n",
      "SALE_AMOUNT\n",
      "$1719    9\n",
      "$1571    8\n",
      "$1248    8\n",
      "$1234    8\n",
      "$1555    8\n",
      "        ..\n",
      "$1968    1\n",
      "$1944    1\n",
      "$1913    1\n",
      "$1277    1\n",
      "$1702    1\n",
      "Name: Sale_Amount, Length: 921, dtype: int64\n",
      "__________________________________________________\n",
      "AD_DATE\n",
      "2024-11-14    47\n",
      "2024-11-26    41\n",
      "2024-11-05    41\n",
      "2024/11/20    39\n",
      "2024/11/18    39\n",
      "              ..\n",
      "2024-11-17    20\n",
      "07-11-2024    19\n",
      "2024-11-06    19\n",
      "2024/11/30    16\n",
      "2024/11/29    15\n",
      "Name: Ad_Date, Length: 90, dtype: int64\n",
      "__________________________________________________\n",
      "LOCATION\n",
      "HYDERABAD    661\n",
      "Hyderbad     656\n",
      "hyderabad    650\n",
      "hydrebad     633\n",
      "Name: Location, dtype: int64\n",
      "__________________________________________________\n",
      "DEVICE\n",
      "MOBILE     311\n",
      "desktop    305\n",
      "Desktop    305\n",
      "tablet     305\n",
      "Mobile     291\n",
      "TABLET     279\n",
      "DESKTOP    278\n",
      "mobile     276\n",
      "Tablet     250\n",
      "Name: Device, dtype: int64\n",
      "__________________________________________________\n",
      "KEYWORD\n",
      "online data analytic      453\n",
      "learn data analytics      444\n",
      "data analytics course     440\n",
      "analytics for data        429\n",
      "data analitics online     420\n",
      "data anaytics training    414\n",
      "Name: Keyword, dtype: int64\n",
      "__________________________________________________\n"
     ]
    }
   ],
   "source": [
    "# visualização das categorias\n",
    "for col in df.columns:\n",
    "    print(col.upper())\n",
    "    print(df[col].value_counts())\n",
    "    print('_'*50)"
   ]
  },
  {
   "cell_type": "markdown",
   "id": "959335f2",
   "metadata": {},
   "source": [
    "**Observações:**\n",
    "- Notamos que na variável `Campaing_Name` as 4 campanhas possuem o mesmo nome, porém com escrituras diferentes. Apesar do mesmo nome, não devem ser a mesma campanha e sim campanhas distintas, afinal nosso trabalho é fazer a análise de qual tem a melhor perfomance. Dito isso, a forma que optarei para corrigir será substituindo os nomes por \"Campanha 1\", \"Campanha 2\" e sucessivamente.\n",
    "- Em `Location` vemos que a localização é no mesmo lugar em todas as campanhas: Hyderabad (Capital e maior cidade do estado indiano de Tengala). Sabendo disso, ao invés de tratar os caracteres da coluna, podemos simplesmente remove-la já que se aplica a todos os registros e não tem variância, não adiciona informação para a análise de performance, além de economizar memória e torna o conjunto de dados mais limpo.\n",
    "- O tipo de dispositivo em `Device` está com valores diferentes para cada categoria, poderemos resolver corrigindo os caracteres e agregando-os.\n",
    "- As keywords parecem não haver um ádrão definido, porém é uma estratégia de marketing testar combinações diferentes de palavras-chave, para ver se há impacto sobre as campanhas. O que podemos fazer futuramente antes de treinar um modelo de machine learning, é separar cada uma das palavras em variáveis diferentes para ver se uma tem mais impacto que outra.\n"
   ]
  },
  {
   "cell_type": "markdown",
   "id": "1f15f94a",
   "metadata": {},
   "source": [
    "**Removendo a coluna Location**"
   ]
  },
  {
   "cell_type": "code",
   "execution_count": 6,
   "id": "012b3a06",
   "metadata": {},
   "outputs": [],
   "source": [
    "df.drop(columns='Location', axis=1, inplace=True)"
   ]
  },
  {
   "cell_type": "markdown",
   "id": "cadf3e45",
   "metadata": {},
   "source": [
    "____"
   ]
  },
  {
   "cell_type": "markdown",
   "id": "616856bc",
   "metadata": {},
   "source": [
    "**Tratando o Nome da Campanha**"
   ]
  },
  {
   "cell_type": "code",
   "execution_count": 7,
   "id": "637e1c5c",
   "metadata": {},
   "outputs": [
    {
     "data": {
      "text/plain": [
       "campanha_3    680\n",
       "campanha_4    647\n",
       "campanha_1    637\n",
       "campanha_2    636\n",
       "Name: Campaign_Name, dtype: int64"
      ]
     },
     "execution_count": 7,
     "metadata": {},
     "output_type": "execute_result"
    }
   ],
   "source": [
    "# Listando os valores únicos\n",
    "campanha_unic = df['Campaign_Name'].unique()\n",
    "\n",
    "# criando um dicionário de mapeamento\n",
    "mapa = {\n",
    "    campanha_unic[0]: 'campanha_1',\n",
    "    campanha_unic[1]: 'campanha_2',\n",
    "    campanha_unic[2]: 'campanha_3',\n",
    "    campanha_unic[3]: 'campanha_4'\n",
    "}\n",
    "\n",
    "# aplicando a substituição\n",
    "df['Campaign_Name'] = df['Campaign_Name'].map(mapa)\n",
    "\n",
    "df['Campaign_Name'].value_counts()"
   ]
  },
  {
   "cell_type": "markdown",
   "id": "771c04f4",
   "metadata": {},
   "source": [
    "____"
   ]
  },
  {
   "cell_type": "markdown",
   "id": "8db3b42a",
   "metadata": {},
   "source": [
    "**Tratando os Tipos de Dispsitivos**"
   ]
  },
  {
   "cell_type": "code",
   "execution_count": 8,
   "id": "8a6c6507",
   "metadata": {},
   "outputs": [],
   "source": [
    "# padroniza os caracteres em minusculo\n",
    "df['Device'] = df['Device'].apply(lambda x: x.lower())"
   ]
  },
  {
   "cell_type": "code",
   "execution_count": 9,
   "id": "88c572a2",
   "metadata": {},
   "outputs": [
    {
     "data": {
      "text/plain": [
       "desktop    888\n",
       "mobile     878\n",
       "tablet     834\n",
       "Name: Device, dtype: int64"
      ]
     },
     "execution_count": 9,
     "metadata": {},
     "output_type": "execute_result"
    }
   ],
   "source": [
    "df.Device.value_counts()"
   ]
  },
  {
   "cell_type": "markdown",
   "id": "eb10536c",
   "metadata": {},
   "source": [
    "____"
   ]
  },
  {
   "cell_type": "markdown",
   "id": "648c0cb1",
   "metadata": {},
   "source": [
    "**Tratando Keywords**"
   ]
  },
  {
   "cell_type": "code",
   "execution_count": 10,
   "id": "b2df93fe",
   "metadata": {},
   "outputs": [],
   "source": [
    "# substitui os espaçamentos em cadacategoria por \"_\"\n",
    "df['Keyword'] = df['Keyword'].apply(lambda x: x.replace(' ', '_'))"
   ]
  },
  {
   "cell_type": "markdown",
   "id": "4bf6ea43",
   "metadata": {},
   "source": [
    "____"
   ]
  },
  {
   "cell_type": "markdown",
   "id": "f1b3a13f",
   "metadata": {},
   "source": [
    " **Tratando Inconcistências em Variáveis Financeiras**"
   ]
  },
  {
   "cell_type": "code",
   "execution_count": 11,
   "id": "bee8f586",
   "metadata": {},
   "outputs": [],
   "source": [
    "# lista as variáveis financeiras\n",
    "fin = ['Cost', 'Sale_Amount']\n",
    "\n",
    "# itera sobre cada uma das variáveis\n",
    "for col in df[fin]:\n",
    "    # remove caractere \"$\"\n",
    "    df[col] = df[col].str.replace('$', '', regex=False)\n",
    "    # formata os valores numéricos para o tipo float\n",
    "    df[col] = df[col].astype(float)"
   ]
  },
  {
   "cell_type": "markdown",
   "id": "12374d3b",
   "metadata": {},
   "source": [
    "____"
   ]
  },
  {
   "cell_type": "markdown",
   "id": "ca62f88b",
   "metadata": {},
   "source": [
    "**Corrigindo variável Data**\n",
    "\n",
    "- Algumas datas estão no formato YYYY-MM-DD, outras no formato DD-MM-YYYY.\n",
    "- Precisamos primeiro padronizar para um único formato e depois converter para o `datetime` do Pandas."
   ]
  },
  {
   "cell_type": "code",
   "execution_count": 12,
   "id": "c5d54b2d",
   "metadata": {},
   "outputs": [
    {
     "data": {
      "text/html": [
       "<div>\n",
       "<style scoped>\n",
       "    .dataframe tbody tr th:only-of-type {\n",
       "        vertical-align: middle;\n",
       "    }\n",
       "\n",
       "    .dataframe tbody tr th {\n",
       "        vertical-align: top;\n",
       "    }\n",
       "\n",
       "    .dataframe thead th {\n",
       "        text-align: right;\n",
       "    }\n",
       "</style>\n",
       "<table border=\"1\" class=\"dataframe\">\n",
       "  <thead>\n",
       "    <tr style=\"text-align: right;\">\n",
       "      <th></th>\n",
       "      <th>Ad_ID</th>\n",
       "      <th>Campaign_Name</th>\n",
       "      <th>Clicks</th>\n",
       "      <th>Impressions</th>\n",
       "      <th>Cost</th>\n",
       "      <th>Leads</th>\n",
       "      <th>Conversions</th>\n",
       "      <th>Conversion Rate</th>\n",
       "      <th>Sale_Amount</th>\n",
       "      <th>Ad_Date</th>\n",
       "      <th>Device</th>\n",
       "      <th>Keyword</th>\n",
       "    </tr>\n",
       "  </thead>\n",
       "  <tbody>\n",
       "  </tbody>\n",
       "</table>\n",
       "</div>"
      ],
      "text/plain": [
       "Empty DataFrame\n",
       "Columns: [Ad_ID, Campaign_Name, Clicks, Impressions, Cost, Leads, Conversions, Conversion Rate, Sale_Amount, Ad_Date, Device, Keyword]\n",
       "Index: []"
      ]
     },
     "execution_count": 12,
     "metadata": {},
     "output_type": "execute_result"
    }
   ],
   "source": [
    "# tentando converter diretamente todos os valores\n",
    "df['Ad_Date'] = pd.to_datetime(df['Ad_Date'], errors='coerce', dayfirst=False)\n",
    "\n",
    "# identificando datas que falharam\n",
    "erros = df[df['Ad_Date'].isna()]\n",
    "\n",
    "# para as datas que fallharam, tentar converter novamente\n",
    "df.loc[df['Ad_Date'].isna(), 'Ad_Date'] = pd.to_datetime(\n",
    "    df.loc[df['Ad_Date'].isna(), 'Ad_Date'], errors='coerce', dayfirst=True\n",
    ")\n",
    "\n",
    "# conferindo se ainda há falhas\n",
    "df[df['Ad_Date'].isna()]"
   ]
  },
  {
   "cell_type": "markdown",
   "id": "50711cd8",
   "metadata": {},
   "source": [
    "____"
   ]
  },
  {
   "cell_type": "markdown",
   "id": "8c2931ae",
   "metadata": {},
   "source": [
    "**Tratando Valores Nulos**"
   ]
  },
  {
   "cell_type": "code",
   "execution_count": 13,
   "id": "b40eec1e",
   "metadata": {},
   "outputs": [
    {
     "data": {
      "text/plain": [
       "Ad_ID                0\n",
       "Campaign_Name        0\n",
       "Clicks             112\n",
       "Impressions         54\n",
       "Cost                97\n",
       "Leads               48\n",
       "Conversions         74\n",
       "Conversion Rate    626\n",
       "Sale_Amount        139\n",
       "Ad_Date              0\n",
       "Device               0\n",
       "Keyword              0\n",
       "dtype: int64"
      ]
     },
     "execution_count": 13,
     "metadata": {},
     "output_type": "execute_result"
    }
   ],
   "source": [
    "df.isnull().sum()"
   ]
  },
  {
   "cell_type": "markdown",
   "id": "d3263be3",
   "metadata": {},
   "source": [
    "**Observações:**\n",
    "- Possuímos valores nulos em: Cliques, impressões, custo, leads, conversões, taxa de conversão, valor da venda.\n",
    "- 112 anúncios estão com dados nulos em cliques, faz sentido? Pode ser que esses valores ausentes não sejam por inconsistência, e sim por que não geraram cliques mesmo. Podemos substituir os valores nulos por \"0\" e posteriormente fazer uma análise das campanhas que não geraram cliques e abstrair algum insight.\n",
    "- Temos também 54 anúncios com impressões nulas, por quê? Seria devido ao fato de que realmente não houveram as impressões ou apenas inconcistência? Faz sentido para o negócio? Assim como em Cliques, iremos substituir por \"0\" para uma análise futura.\n",
    "- No caso dos nulos em Custo do anúncio, seria também o fator inconsistência? Pode ser anúncios em fase de espera de aprovação, problemas de pagamento ou até mesmo não ter gerado nenhum resultado mensurável.\n",
    "- As mesmas questões acima se aplicam para a variável de Conversão.\n",
    "- 626 nulos em Taxa de Conversão aparenta ser estranho, principalmente em um conjunto de dados com apenas 2600 registros. Aqui pode haver de fato uma inconcistência nos dados.\n",
    "- Em Sale_Amount temos 139 nulos, mas como essa variável determina a receita gerada após a conversão, podemos supor que as conversões em específico não foram de vendas, e talvez Leads.\n",
    "\n",
    "Antes de remover qualquer valor desses, iremos conferir se de fato é uma inconcistência ou apenas falta de tratamento."
   ]
  },
  {
   "cell_type": "markdown",
   "id": "a9977e80",
   "metadata": {},
   "source": [
    "----"
   ]
  },
  {
   "cell_type": "markdown",
   "id": "913faaf7",
   "metadata": {},
   "source": [
    "**Preenchendo cliques e impressões nulas**"
   ]
  },
  {
   "cell_type": "code",
   "execution_count": 14,
   "id": "b34763c8",
   "metadata": {},
   "outputs": [],
   "source": [
    "df['Clicks'].fillna(0, inplace=True)\n",
    "df['Impressions'].fillna(0, inplace=True)"
   ]
  },
  {
   "cell_type": "markdown",
   "id": "69b9f6e9",
   "metadata": {},
   "source": [
    "____"
   ]
  },
  {
   "cell_type": "markdown",
   "id": "aa1407b2",
   "metadata": {},
   "source": [
    "**Tratando os anúncios com custos nulos**\n",
    "\n",
    "Para esta variável uma possível interpretação para os custos de anúncio estarem vazios é que ainda não foram colocados em andamento, logo faz sentido não ter gerado custos. E se a campanha não foi anunciada, não tratá informações para podermos analisar. Antes de remover os nulos, vamos conferir  se de fato não trouxeram informações."
   ]
  },
  {
   "cell_type": "code",
   "execution_count": 15,
   "id": "def09c5f",
   "metadata": {},
   "outputs": [
    {
     "data": {
      "text/html": [
       "<div>\n",
       "<style scoped>\n",
       "    .dataframe tbody tr th:only-of-type {\n",
       "        vertical-align: middle;\n",
       "    }\n",
       "\n",
       "    .dataframe tbody tr th {\n",
       "        vertical-align: top;\n",
       "    }\n",
       "\n",
       "    .dataframe thead th {\n",
       "        text-align: right;\n",
       "    }\n",
       "</style>\n",
       "<table border=\"1\" class=\"dataframe\">\n",
       "  <thead>\n",
       "    <tr style=\"text-align: right;\">\n",
       "      <th></th>\n",
       "      <th>Ad_ID</th>\n",
       "      <th>Campaign_Name</th>\n",
       "      <th>Clicks</th>\n",
       "      <th>Impressions</th>\n",
       "      <th>Cost</th>\n",
       "      <th>Leads</th>\n",
       "      <th>Conversions</th>\n",
       "      <th>Conversion Rate</th>\n",
       "      <th>Sale_Amount</th>\n",
       "      <th>Ad_Date</th>\n",
       "      <th>Device</th>\n",
       "      <th>Keyword</th>\n",
       "    </tr>\n",
       "  </thead>\n",
       "  <tbody>\n",
       "    <tr>\n",
       "      <th>8</th>\n",
       "      <td>A1008</td>\n",
       "      <td>campanha_4</td>\n",
       "      <td>113.0</td>\n",
       "      <td>5434.0</td>\n",
       "      <td>NaN</td>\n",
       "      <td>27.0</td>\n",
       "      <td>4.0</td>\n",
       "      <td>0.058</td>\n",
       "      <td>1362.0</td>\n",
       "      <td>2024-11-24</td>\n",
       "      <td>tablet</td>\n",
       "      <td>data_anaytics_training</td>\n",
       "    </tr>\n",
       "    <tr>\n",
       "      <th>16</th>\n",
       "      <td>A1016</td>\n",
       "      <td>campanha_3</td>\n",
       "      <td>193.0</td>\n",
       "      <td>5159.0</td>\n",
       "      <td>NaN</td>\n",
       "      <td>15.0</td>\n",
       "      <td>9.0</td>\n",
       "      <td>0.047</td>\n",
       "      <td>1614.0</td>\n",
       "      <td>2024-11-10</td>\n",
       "      <td>mobile</td>\n",
       "      <td>learn_data_analytics</td>\n",
       "    </tr>\n",
       "    <tr>\n",
       "      <th>19</th>\n",
       "      <td>A1019</td>\n",
       "      <td>campanha_3</td>\n",
       "      <td>145.0</td>\n",
       "      <td>5278.0</td>\n",
       "      <td>NaN</td>\n",
       "      <td>25.0</td>\n",
       "      <td>6.0</td>\n",
       "      <td>0.041</td>\n",
       "      <td>1516.0</td>\n",
       "      <td>2024-11-05</td>\n",
       "      <td>desktop</td>\n",
       "      <td>data_analytics_course</td>\n",
       "    </tr>\n",
       "    <tr>\n",
       "      <th>24</th>\n",
       "      <td>A1024</td>\n",
       "      <td>campanha_1</td>\n",
       "      <td>87.0</td>\n",
       "      <td>3718.0</td>\n",
       "      <td>NaN</td>\n",
       "      <td>12.0</td>\n",
       "      <td>3.0</td>\n",
       "      <td>0.034</td>\n",
       "      <td>1652.0</td>\n",
       "      <td>2024-11-20</td>\n",
       "      <td>tablet</td>\n",
       "      <td>learn_data_analytics</td>\n",
       "    </tr>\n",
       "    <tr>\n",
       "      <th>37</th>\n",
       "      <td>A1037</td>\n",
       "      <td>campanha_3</td>\n",
       "      <td>123.0</td>\n",
       "      <td>5131.0</td>\n",
       "      <td>NaN</td>\n",
       "      <td>19.0</td>\n",
       "      <td>5.0</td>\n",
       "      <td>0.041</td>\n",
       "      <td>1307.0</td>\n",
       "      <td>2024-09-11</td>\n",
       "      <td>mobile</td>\n",
       "      <td>learn_data_analytics</td>\n",
       "    </tr>\n",
       "    <tr>\n",
       "      <th>...</th>\n",
       "      <td>...</td>\n",
       "      <td>...</td>\n",
       "      <td>...</td>\n",
       "      <td>...</td>\n",
       "      <td>...</td>\n",
       "      <td>...</td>\n",
       "      <td>...</td>\n",
       "      <td>...</td>\n",
       "      <td>...</td>\n",
       "      <td>...</td>\n",
       "      <td>...</td>\n",
       "      <td>...</td>\n",
       "    </tr>\n",
       "    <tr>\n",
       "      <th>2497</th>\n",
       "      <td>A3497</td>\n",
       "      <td>campanha_2</td>\n",
       "      <td>135.0</td>\n",
       "      <td>4611.0</td>\n",
       "      <td>NaN</td>\n",
       "      <td>17.0</td>\n",
       "      <td>7.0</td>\n",
       "      <td>NaN</td>\n",
       "      <td>1697.0</td>\n",
       "      <td>2024-11-14</td>\n",
       "      <td>desktop</td>\n",
       "      <td>online_data_analytic</td>\n",
       "    </tr>\n",
       "    <tr>\n",
       "      <th>2522</th>\n",
       "      <td>A3522</td>\n",
       "      <td>campanha_4</td>\n",
       "      <td>127.0</td>\n",
       "      <td>3682.0</td>\n",
       "      <td>NaN</td>\n",
       "      <td>21.0</td>\n",
       "      <td>9.0</td>\n",
       "      <td>0.071</td>\n",
       "      <td>1384.0</td>\n",
       "      <td>2024-11-22</td>\n",
       "      <td>tablet</td>\n",
       "      <td>data_anaytics_training</td>\n",
       "    </tr>\n",
       "    <tr>\n",
       "      <th>2528</th>\n",
       "      <td>A3528</td>\n",
       "      <td>campanha_1</td>\n",
       "      <td>132.0</td>\n",
       "      <td>5616.0</td>\n",
       "      <td>NaN</td>\n",
       "      <td>28.0</td>\n",
       "      <td>7.0</td>\n",
       "      <td>0.053</td>\n",
       "      <td>1491.0</td>\n",
       "      <td>2024-11-26</td>\n",
       "      <td>desktop</td>\n",
       "      <td>data_analitics_online</td>\n",
       "    </tr>\n",
       "    <tr>\n",
       "      <th>2581</th>\n",
       "      <td>A3581</td>\n",
       "      <td>campanha_3</td>\n",
       "      <td>0.0</td>\n",
       "      <td>5297.0</td>\n",
       "      <td>NaN</td>\n",
       "      <td>27.0</td>\n",
       "      <td>9.0</td>\n",
       "      <td>NaN</td>\n",
       "      <td>1268.0</td>\n",
       "      <td>2024-11-23</td>\n",
       "      <td>desktop</td>\n",
       "      <td>data_analytics_course</td>\n",
       "    </tr>\n",
       "    <tr>\n",
       "      <th>2599</th>\n",
       "      <td>A3599</td>\n",
       "      <td>campanha_4</td>\n",
       "      <td>0.0</td>\n",
       "      <td>5453.0</td>\n",
       "      <td>NaN</td>\n",
       "      <td>12.0</td>\n",
       "      <td>5.0</td>\n",
       "      <td>NaN</td>\n",
       "      <td>1174.0</td>\n",
       "      <td>2024-11-22</td>\n",
       "      <td>desktop</td>\n",
       "      <td>analytics_for_data</td>\n",
       "    </tr>\n",
       "  </tbody>\n",
       "</table>\n",
       "<p>97 rows × 12 columns</p>\n",
       "</div>"
      ],
      "text/plain": [
       "      Ad_ID Campaign_Name  Clicks  Impressions  Cost  Leads  Conversions  \\\n",
       "8     A1008    campanha_4   113.0       5434.0   NaN   27.0          4.0   \n",
       "16    A1016    campanha_3   193.0       5159.0   NaN   15.0          9.0   \n",
       "19    A1019    campanha_3   145.0       5278.0   NaN   25.0          6.0   \n",
       "24    A1024    campanha_1    87.0       3718.0   NaN   12.0          3.0   \n",
       "37    A1037    campanha_3   123.0       5131.0   NaN   19.0          5.0   \n",
       "...     ...           ...     ...          ...   ...    ...          ...   \n",
       "2497  A3497    campanha_2   135.0       4611.0   NaN   17.0          7.0   \n",
       "2522  A3522    campanha_4   127.0       3682.0   NaN   21.0          9.0   \n",
       "2528  A3528    campanha_1   132.0       5616.0   NaN   28.0          7.0   \n",
       "2581  A3581    campanha_3     0.0       5297.0   NaN   27.0          9.0   \n",
       "2599  A3599    campanha_4     0.0       5453.0   NaN   12.0          5.0   \n",
       "\n",
       "      Conversion Rate  Sale_Amount    Ad_Date   Device                 Keyword  \n",
       "8               0.058       1362.0 2024-11-24   tablet  data_anaytics_training  \n",
       "16              0.047       1614.0 2024-11-10   mobile    learn_data_analytics  \n",
       "19              0.041       1516.0 2024-11-05  desktop   data_analytics_course  \n",
       "24              0.034       1652.0 2024-11-20   tablet    learn_data_analytics  \n",
       "37              0.041       1307.0 2024-09-11   mobile    learn_data_analytics  \n",
       "...               ...          ...        ...      ...                     ...  \n",
       "2497              NaN       1697.0 2024-11-14  desktop    online_data_analytic  \n",
       "2522            0.071       1384.0 2024-11-22   tablet  data_anaytics_training  \n",
       "2528            0.053       1491.0 2024-11-26  desktop   data_analitics_online  \n",
       "2581              NaN       1268.0 2024-11-23  desktop   data_analytics_course  \n",
       "2599              NaN       1174.0 2024-11-22  desktop      analytics_for_data  \n",
       "\n",
       "[97 rows x 12 columns]"
      ]
     },
     "execution_count": 15,
     "metadata": {},
     "output_type": "execute_result"
    }
   ],
   "source": [
    "df_custo_nulo = df.loc[df['Cost'].isna()]\n",
    "df_custo_nulo"
   ]
  },
  {
   "cell_type": "markdown",
   "id": "62ff9b4b",
   "metadata": {},
   "source": [
    "- Como podemos observar, a suposição que tive anteriormente parece estar equivocada uma vez que ainda há cliques, impressões, leads etc, em campanhas com custo nulo. Poderia ser inconsistência na captura dos dados ou algum outro fator que justifique?"
   ]
  },
  {
   "cell_type": "code",
   "execution_count": 16,
   "id": "40a8cad0",
   "metadata": {},
   "outputs": [
    {
     "data": {
      "text/html": [
       "<div>\n",
       "<style scoped>\n",
       "    .dataframe tbody tr th:only-of-type {\n",
       "        vertical-align: middle;\n",
       "    }\n",
       "\n",
       "    .dataframe tbody tr th {\n",
       "        vertical-align: top;\n",
       "    }\n",
       "\n",
       "    .dataframe thead th {\n",
       "        text-align: right;\n",
       "    }\n",
       "</style>\n",
       "<table border=\"1\" class=\"dataframe\">\n",
       "  <thead>\n",
       "    <tr style=\"text-align: right;\">\n",
       "      <th></th>\n",
       "      <th>Ad_ID</th>\n",
       "      <th>Campaign_Name</th>\n",
       "      <th>Clicks</th>\n",
       "      <th>Impressions</th>\n",
       "      <th>Cost</th>\n",
       "      <th>Leads</th>\n",
       "      <th>Conversions</th>\n",
       "      <th>Conversion Rate</th>\n",
       "      <th>Sale_Amount</th>\n",
       "      <th>Ad_Date</th>\n",
       "      <th>Device</th>\n",
       "      <th>Keyword</th>\n",
       "    </tr>\n",
       "  </thead>\n",
       "  <tbody>\n",
       "    <tr>\n",
       "      <th>count</th>\n",
       "      <td>97</td>\n",
       "      <td>97</td>\n",
       "      <td>97.000000</td>\n",
       "      <td>97.000000</td>\n",
       "      <td>0.0</td>\n",
       "      <td>95.000000</td>\n",
       "      <td>95.000000</td>\n",
       "      <td>69.000000</td>\n",
       "      <td>95.000000</td>\n",
       "      <td>97</td>\n",
       "      <td>97</td>\n",
       "      <td>97</td>\n",
       "    </tr>\n",
       "    <tr>\n",
       "      <th>unique</th>\n",
       "      <td>97</td>\n",
       "      <td>4</td>\n",
       "      <td>NaN</td>\n",
       "      <td>NaN</td>\n",
       "      <td>NaN</td>\n",
       "      <td>NaN</td>\n",
       "      <td>NaN</td>\n",
       "      <td>NaN</td>\n",
       "      <td>NaN</td>\n",
       "      <td>34</td>\n",
       "      <td>3</td>\n",
       "      <td>6</td>\n",
       "    </tr>\n",
       "    <tr>\n",
       "      <th>top</th>\n",
       "      <td>A1008</td>\n",
       "      <td>campanha_2</td>\n",
       "      <td>NaN</td>\n",
       "      <td>NaN</td>\n",
       "      <td>NaN</td>\n",
       "      <td>NaN</td>\n",
       "      <td>NaN</td>\n",
       "      <td>NaN</td>\n",
       "      <td>NaN</td>\n",
       "      <td>2024-11-14 00:00:00</td>\n",
       "      <td>tablet</td>\n",
       "      <td>data_analitics_online</td>\n",
       "    </tr>\n",
       "    <tr>\n",
       "      <th>freq</th>\n",
       "      <td>1</td>\n",
       "      <td>30</td>\n",
       "      <td>NaN</td>\n",
       "      <td>NaN</td>\n",
       "      <td>NaN</td>\n",
       "      <td>NaN</td>\n",
       "      <td>NaN</td>\n",
       "      <td>NaN</td>\n",
       "      <td>NaN</td>\n",
       "      <td>6</td>\n",
       "      <td>37</td>\n",
       "      <td>21</td>\n",
       "    </tr>\n",
       "    <tr>\n",
       "      <th>first</th>\n",
       "      <td>NaN</td>\n",
       "      <td>NaN</td>\n",
       "      <td>NaN</td>\n",
       "      <td>NaN</td>\n",
       "      <td>NaN</td>\n",
       "      <td>NaN</td>\n",
       "      <td>NaN</td>\n",
       "      <td>NaN</td>\n",
       "      <td>NaN</td>\n",
       "      <td>2024-02-11 00:00:00</td>\n",
       "      <td>NaN</td>\n",
       "      <td>NaN</td>\n",
       "    </tr>\n",
       "    <tr>\n",
       "      <th>last</th>\n",
       "      <td>NaN</td>\n",
       "      <td>NaN</td>\n",
       "      <td>NaN</td>\n",
       "      <td>NaN</td>\n",
       "      <td>NaN</td>\n",
       "      <td>NaN</td>\n",
       "      <td>NaN</td>\n",
       "      <td>NaN</td>\n",
       "      <td>NaN</td>\n",
       "      <td>2024-12-11 00:00:00</td>\n",
       "      <td>NaN</td>\n",
       "      <td>NaN</td>\n",
       "    </tr>\n",
       "    <tr>\n",
       "      <th>mean</th>\n",
       "      <td>NaN</td>\n",
       "      <td>NaN</td>\n",
       "      <td>130.515464</td>\n",
       "      <td>4423.319588</td>\n",
       "      <td>NaN</td>\n",
       "      <td>20.031579</td>\n",
       "      <td>6.452632</td>\n",
       "      <td>0.047000</td>\n",
       "      <td>1472.631579</td>\n",
       "      <td>NaN</td>\n",
       "      <td>NaN</td>\n",
       "      <td>NaN</td>\n",
       "    </tr>\n",
       "    <tr>\n",
       "      <th>std</th>\n",
       "      <td>NaN</td>\n",
       "      <td>NaN</td>\n",
       "      <td>46.347221</td>\n",
       "      <td>1215.015051</td>\n",
       "      <td>NaN</td>\n",
       "      <td>5.970589</td>\n",
       "      <td>2.234966</td>\n",
       "      <td>0.017382</td>\n",
       "      <td>268.820515</td>\n",
       "      <td>NaN</td>\n",
       "      <td>NaN</td>\n",
       "      <td>NaN</td>\n",
       "    </tr>\n",
       "    <tr>\n",
       "      <th>min</th>\n",
       "      <td>NaN</td>\n",
       "      <td>NaN</td>\n",
       "      <td>0.000000</td>\n",
       "      <td>0.000000</td>\n",
       "      <td>NaN</td>\n",
       "      <td>10.000000</td>\n",
       "      <td>3.000000</td>\n",
       "      <td>0.016000</td>\n",
       "      <td>1016.000000</td>\n",
       "      <td>NaN</td>\n",
       "      <td>NaN</td>\n",
       "      <td>NaN</td>\n",
       "    </tr>\n",
       "    <tr>\n",
       "      <th>25%</th>\n",
       "      <td>NaN</td>\n",
       "      <td>NaN</td>\n",
       "      <td>112.000000</td>\n",
       "      <td>3718.000000</td>\n",
       "      <td>NaN</td>\n",
       "      <td>15.000000</td>\n",
       "      <td>5.000000</td>\n",
       "      <td>0.035000</td>\n",
       "      <td>1259.500000</td>\n",
       "      <td>NaN</td>\n",
       "      <td>NaN</td>\n",
       "      <td>NaN</td>\n",
       "    </tr>\n",
       "    <tr>\n",
       "      <th>50%</th>\n",
       "      <td>NaN</td>\n",
       "      <td>NaN</td>\n",
       "      <td>135.000000</td>\n",
       "      <td>4394.000000</td>\n",
       "      <td>NaN</td>\n",
       "      <td>20.000000</td>\n",
       "      <td>6.000000</td>\n",
       "      <td>0.045000</td>\n",
       "      <td>1483.000000</td>\n",
       "      <td>NaN</td>\n",
       "      <td>NaN</td>\n",
       "      <td>NaN</td>\n",
       "    </tr>\n",
       "    <tr>\n",
       "      <th>75%</th>\n",
       "      <td>NaN</td>\n",
       "      <td>NaN</td>\n",
       "      <td>168.000000</td>\n",
       "      <td>5349.000000</td>\n",
       "      <td>NaN</td>\n",
       "      <td>25.000000</td>\n",
       "      <td>8.000000</td>\n",
       "      <td>0.058000</td>\n",
       "      <td>1704.500000</td>\n",
       "      <td>NaN</td>\n",
       "      <td>NaN</td>\n",
       "      <td>NaN</td>\n",
       "    </tr>\n",
       "    <tr>\n",
       "      <th>max</th>\n",
       "      <td>NaN</td>\n",
       "      <td>NaN</td>\n",
       "      <td>199.000000</td>\n",
       "      <td>5993.000000</td>\n",
       "      <td>NaN</td>\n",
       "      <td>30.000000</td>\n",
       "      <td>10.000000</td>\n",
       "      <td>0.098000</td>\n",
       "      <td>1974.000000</td>\n",
       "      <td>NaN</td>\n",
       "      <td>NaN</td>\n",
       "      <td>NaN</td>\n",
       "    </tr>\n",
       "  </tbody>\n",
       "</table>\n",
       "</div>"
      ],
      "text/plain": [
       "        Ad_ID Campaign_Name      Clicks  Impressions  Cost      Leads  \\\n",
       "count      97            97   97.000000    97.000000   0.0  95.000000   \n",
       "unique     97             4         NaN          NaN   NaN        NaN   \n",
       "top     A1008    campanha_2         NaN          NaN   NaN        NaN   \n",
       "freq        1            30         NaN          NaN   NaN        NaN   \n",
       "first     NaN           NaN         NaN          NaN   NaN        NaN   \n",
       "last      NaN           NaN         NaN          NaN   NaN        NaN   \n",
       "mean      NaN           NaN  130.515464  4423.319588   NaN  20.031579   \n",
       "std       NaN           NaN   46.347221  1215.015051   NaN   5.970589   \n",
       "min       NaN           NaN    0.000000     0.000000   NaN  10.000000   \n",
       "25%       NaN           NaN  112.000000  3718.000000   NaN  15.000000   \n",
       "50%       NaN           NaN  135.000000  4394.000000   NaN  20.000000   \n",
       "75%       NaN           NaN  168.000000  5349.000000   NaN  25.000000   \n",
       "max       NaN           NaN  199.000000  5993.000000   NaN  30.000000   \n",
       "\n",
       "        Conversions  Conversion Rate  Sale_Amount              Ad_Date  \\\n",
       "count     95.000000        69.000000    95.000000                   97   \n",
       "unique          NaN              NaN          NaN                   34   \n",
       "top             NaN              NaN          NaN  2024-11-14 00:00:00   \n",
       "freq            NaN              NaN          NaN                    6   \n",
       "first           NaN              NaN          NaN  2024-02-11 00:00:00   \n",
       "last            NaN              NaN          NaN  2024-12-11 00:00:00   \n",
       "mean       6.452632         0.047000  1472.631579                  NaN   \n",
       "std        2.234966         0.017382   268.820515                  NaN   \n",
       "min        3.000000         0.016000  1016.000000                  NaN   \n",
       "25%        5.000000         0.035000  1259.500000                  NaN   \n",
       "50%        6.000000         0.045000  1483.000000                  NaN   \n",
       "75%        8.000000         0.058000  1704.500000                  NaN   \n",
       "max       10.000000         0.098000  1974.000000                  NaN   \n",
       "\n",
       "        Device                Keyword  \n",
       "count       97                     97  \n",
       "unique       3                      6  \n",
       "top     tablet  data_analitics_online  \n",
       "freq        37                     21  \n",
       "first      NaN                    NaN  \n",
       "last       NaN                    NaN  \n",
       "mean       NaN                    NaN  \n",
       "std        NaN                    NaN  \n",
       "min        NaN                    NaN  \n",
       "25%        NaN                    NaN  \n",
       "50%        NaN                    NaN  \n",
       "75%        NaN                    NaN  \n",
       "max        NaN                    NaN  "
      ]
     },
     "execution_count": 16,
     "metadata": {},
     "output_type": "execute_result"
    }
   ],
   "source": [
    "df_custo_nulo.describe(include='all')"
   ]
  },
  {
   "cell_type": "code",
   "execution_count": 17,
   "id": "c1949e2a",
   "metadata": {},
   "outputs": [
    {
     "data": {
      "text/plain": [
       "mes\n",
       "1      0\n",
       "2      1\n",
       "3      1\n",
       "4      0\n",
       "5      0\n",
       "6      2\n",
       "7      0\n",
       "8      2\n",
       "9      2\n",
       "10     1\n",
       "11    86\n",
       "12     2\n",
       "Name: Cost, dtype: int64"
      ]
     },
     "execution_count": 17,
     "metadata": {},
     "output_type": "execute_result"
    }
   ],
   "source": [
    "# criando dataframe temporário\n",
    "_ = df.copy()\n",
    "\n",
    "# criando coluna de mês\n",
    "_['mes'] = pd.to_datetime(_['Ad_Date']).dt.month\n",
    "\n",
    "# agrupando os custos nulos por mês\n",
    "_.groupby('mes')['Cost'].apply(lambda x: x.isna().sum())"
   ]
  },
  {
   "cell_type": "markdown",
   "id": "91a1be12",
   "metadata": {},
   "source": [
    "- Parece que nos mês 11 (Novembro) ocorreu algo que aumentou significativamente a quantidade de campanhas com custos nulos. Em um caso real iria reportar o ocorrido ao time de negócios para tentar identificar a causa, porém nesta situação irei continuar a análise e definir o melhor modo para imputar ou remover os dados nulos."
   ]
  },
  {
   "cell_type": "code",
   "execution_count": 18,
   "id": "9d6acffd",
   "metadata": {},
   "outputs": [
    {
     "data": {
      "text/plain": [
       "count    2226.000000\n",
       "mean      214.936271\n",
       "std        20.296684\n",
       "min       180.010000\n",
       "25%       197.280000\n",
       "50%       214.785000\n",
       "75%       232.865000\n",
       "max       249.890000\n",
       "Name: Cost, dtype: float64"
      ]
     },
     "execution_count": 18,
     "metadata": {},
     "output_type": "execute_result"
    }
   ],
   "source": [
    "# dristribuição de custos no mês de novembro\n",
    "_['Cost'].loc[_['mes'] == 11].describe()"
   ]
  },
  {
   "cell_type": "markdown",
   "id": "33811b2f",
   "metadata": {},
   "source": [
    "- Para os nulos no mês de novembro, irei imputar os dados como a média deste mês, visto que a distribuição da média e da mediana estão próximas e isso sugere uma distribuição normal, logo os valores imputados não serão tão distantes do valor real.\n",
    "- Estou optando fazer a imputação dos nulos para evitar revmove-los e com isso perder informação do conjunto de dados."
   ]
  },
  {
   "cell_type": "code",
   "execution_count": 19,
   "id": "926699a0",
   "metadata": {},
   "outputs": [],
   "source": [
    "# armazenando valor de custo médio apenas do mês de novembro\n",
    "media_custo_11 = _.loc[_['mes'] == 11, 'Cost'].mean() \n",
    "\n",
    "# substituindo apenas os nulos do mês de novembro no dataset original\n",
    "df.loc[(_.Cost.isna()) & (_.mes == 11), 'Cost'] = media_custo_11"
   ]
  },
  {
   "cell_type": "code",
   "execution_count": 20,
   "id": "e534c2ba",
   "metadata": {},
   "outputs": [
    {
     "data": {
      "text/plain": [
       "11"
      ]
     },
     "execution_count": 20,
     "metadata": {},
     "output_type": "execute_result"
    }
   ],
   "source": [
    "# soma de nulos restante nos custos \n",
    "df.Cost.isna().sum()"
   ]
  },
  {
   "cell_type": "markdown",
   "id": "55aac0dc",
   "metadata": {},
   "source": [
    "- Para esses 11 registros farei uma imputação mais simples, utilizando o método Forward Fill, que preenche os nulos baseado nos valores das linhas acima dele."
   ]
  },
  {
   "cell_type": "code",
   "execution_count": 21,
   "id": "2dfea1ff",
   "metadata": {},
   "outputs": [],
   "source": [
    "# preenchendo nulos com base na linha de cima\n",
    "df['Cost'].fillna(method='ffill', inplace=True)"
   ]
  },
  {
   "cell_type": "markdown",
   "id": "f1af4115",
   "metadata": {},
   "source": [
    "----"
   ]
  },
  {
   "cell_type": "markdown",
   "id": "c81264e3",
   "metadata": {},
   "source": [
    "**Analisando Conversões nulas**"
   ]
  },
  {
   "cell_type": "code",
   "execution_count": null,
   "id": "b5fbdab2",
   "metadata": {},
   "outputs": [
    {
     "data": {
      "text/plain": [
       "count    2526.000000\n",
       "mean        6.519002\n",
       "std         2.272573\n",
       "min         3.000000\n",
       "25%         5.000000\n",
       "50%         7.000000\n",
       "75%         9.000000\n",
       "max        10.000000\n",
       "Name: Conversions, dtype: float64"
      ]
     },
     "execution_count": 25,
     "metadata": {},
     "output_type": "execute_result"
    }
   ],
   "source": [
    "# descrição da variável de conversão\n",
    "df.Conversions.describe()"
   ]
  },
  {
   "cell_type": "markdown",
   "id": "8343d815",
   "metadata": {},
   "source": [
    "- Nota-se que o valor mínimo de uma conversão não nula é 3, então já entendemos que não tem registrado uma campanha com conversão igual a 0. Desta forma podemos supor que as campanhas que não tiveram conversão estão registradas como nulas, mas ainda sem desconsiderar a possibiidade de ser uma inconcistência nos dados. Vamos examinar mais."
   ]
  },
  {
   "cell_type": "code",
   "execution_count": null,
   "id": "cea65a7f",
   "metadata": {},
   "outputs": [],
   "source": [
    "# criando cópia temporária do dataframe\n",
    "_ = df.copy()\n",
    "\n",
    "# filtrando onde os dados são nulos em Converssões\n",
    "_ = _.loc[_['Conversions'].isna()]"
   ]
  },
  {
   "cell_type": "code",
   "execution_count": null,
   "id": "3f569587",
   "metadata": {},
   "outputs": [
    {
     "data": {
      "image/png": "[encoded data removed]",
      "text/plain": [
       "<Figure size 1000x1000 with 6 Axes>"
      ]
     },
     "metadata": {},
     "output_type": "display_data"
    }
   ],
   "source": [
    "# cria uma coluna indicando se 'Conversions' está nulo\n",
    "df_full = df.copy()\n",
    "df_full['group'] = 'Conversões não nulas'\n",
    "\n",
    "df_null = _.copy()\n",
    "df_null['group'] = 'Conversões nulas'\n",
    "\n",
    "# junta os dois\n",
    "df_combined = pd.concat([df_full, df_null])\n",
    "\n",
    "# lista de colunas numéricas (sem 'Conversions' para evitar distorções)\n",
    "variaveis = ['Cost', 'Clicks', 'Impressions', 'Leads', 'Conversion Rate', 'Sale_Amount']\n",
    "\n",
    "# cria boxplots\n",
    "fig, axes = plt.subplots(2, 3, figsize=(10, 10))\n",
    "axes = axes.flatten()\n",
    "\n",
    "for i, col in enumerate(variaveis):\n",
    "    sns.boxplot(data=df_combined, x='group', y=col, ax=axes[i])\n",
    "    axes[i].set_title(f'Comparação de {col}')\n",
    "\n",
    "plt.tight_layout()\n",
    "plt.show()\n"
   ]
  },
  {
   "cell_type": "markdown",
   "id": "73325bde",
   "metadata": {},
   "source": [
    "- Comparando as distribuições estatísticas entre os dois dataframes onde a Conversão é nula ou não, notamos que as demais variáveis são quase iguais, como a comparação de leads, impressões, cliques... Com isso podemos supor que o fato de ter conversões nulas talvez seja devido à uma campanha de baixo nível de estratégia, que convença o público tomar uma ação desejada, seja compra ou se tornar um lead.\n",
    "- Com isso podemos interpretar os nulos desta variável como \"Não houveram conversão de fato\" ao invés de \"é problema de inconsistência\". Dessa forma podemos simplesmente imputar os nulos como sendo 0."
   ]
  },
  {
   "cell_type": "code",
   "execution_count": null,
   "id": "6832af05",
   "metadata": {},
   "outputs": [],
   "source": [
    "# substituindo valores nulos por 0\n",
    "df.Conversions.fillna(0, inplace=True)"
   ]
  },
  {
   "cell_type": "markdown",
   "id": "5c433e46",
   "metadata": {},
   "source": [
    "----"
   ]
  },
  {
   "cell_type": "markdown",
   "id": "00a7fd62",
   "metadata": {},
   "source": [
    "**Tratando Taxa de Conversão**\n",
    "\n",
    "Para preencher os 626 nulos em Conversion Rate, calcularemos o valor da taxa utilizando a fórumula $TC = \\frac{\\text{Número de Conversões}}{\\text{Número de Cliques}} × 100$"
   ]
  },
  {
   "cell_type": "code",
   "execution_count": null,
   "id": "d624e427",
   "metadata": {},
   "outputs": [],
   "source": [
    "# cria uma mascara sobre o dataframe onde  a taxa de conversão é nula e os cliques são maiores que 0, pois caso não haja clique não tem como haver conversão\n",
    "masc = df['Conversion Rate'].isna() & (df['Clicks'] > 0)\n",
    "\n",
    "# atribui aos nulos o valor do calculo\n",
    "df.loc[masc, 'Conversion Rate'] = df.loc[masc, 'Conversions'] / df.loc[masc, 'Clicks']"
   ]
  },
  {
   "cell_type": "code",
   "execution_count": null,
   "id": "9812b17c",
   "metadata": {},
   "outputs": [
    {
     "data": {
      "text/plain": [
       "93"
      ]
     },
     "execution_count": 46,
     "metadata": {},
     "output_type": "execute_result"
    }
   ],
   "source": [
    "# confirma a quantidade de valores nulos restantes\n",
    "df['Conversion Rate'].isna().sum()"
   ]
  },
  {
   "cell_type": "markdown",
   "id": "a97d62b4",
   "metadata": {},
   "source": [
    "- Possívelmente esses 93 nulos restantes são de campanhas com 0 cliques. Após conferir se de fato é isso, podemos imputar os valores nulos como sendo 0."
   ]
  },
  {
   "cell_type": "code",
   "execution_count": null,
   "id": "c32702e4",
   "metadata": {},
   "outputs": [
    {
     "data": {
      "text/plain": [
       "27      0.0\n",
       "32      0.0\n",
       "93      0.0\n",
       "197     0.0\n",
       "218     0.0\n",
       "       ... \n",
       "2554    0.0\n",
       "2571    0.0\n",
       "2578    0.0\n",
       "2581    0.0\n",
       "2599    0.0\n",
       "Name: Clicks, Length: 93, dtype: float64"
      ]
     },
     "execution_count": 48,
     "metadata": {},
     "output_type": "execute_result"
    }
   ],
   "source": [
    "# exibe a quantidade de cliques onde a taxa de conversão é nula\n",
    "df['Clicks'].loc[df['Conversion Rate'].isna()]"
   ]
  },
  {
   "cell_type": "code",
   "execution_count": 50,
   "id": "3d99b75f",
   "metadata": {},
   "outputs": [
    {
     "data": {
      "text/plain": [
       "0.0"
      ]
     },
     "execution_count": 50,
     "metadata": {},
     "output_type": "execute_result"
    }
   ],
   "source": [
    "# soma a quantidade de cliques total onde a taxa de conversão é nula, já que não conseguimos visualizar todos os valores anteriormente\n",
    "sum(df['Clicks'].loc[df['Conversion Rate'].isna()])"
   ]
  },
  {
   "cell_type": "markdown",
   "id": "1dbf7141",
   "metadata": {},
   "source": [
    "- Somando a quantidade de cliques, o resutado é 0. Isso comprova que os 93 valores nulos em Conversion Rate são onde os Cliques estão zerados, logo não utilizamos para o cálculo de imputação para a taxa de conversão. \n",
    "- Imputaremos 0 como valor para os nulos, representando que a taxa de conversão na linha é zerada."
   ]
  },
  {
   "cell_type": "code",
   "execution_count": 51,
   "id": "9b5c76a9",
   "metadata": {},
   "outputs": [],
   "source": [
    "# preenche nulos com 0 em Conversion Rate\n",
    "df['Conversion Rate'].fillna(0, inplace=True)"
   ]
  },
  {
   "cell_type": "markdown",
   "id": "5081f0e1",
   "metadata": {},
   "source": [
    "----"
   ]
  },
  {
   "cell_type": "markdown",
   "id": "faa4185d",
   "metadata": {},
   "source": [
    "**Tratando nulos em Valor de Venda**"
   ]
  },
  {
   "cell_type": "code",
   "execution_count": null,
   "id": "a3375b26",
   "metadata": {},
   "outputs": [],
   "source": []
  }
 ],
 "metadata": {
  "kernelspec": {
   "display_name": "base",
   "language": "python",
   "name": "python3"
  },
  "language_info": {
   "codemirror_mode": {
    "name": "ipython",
    "version": 3
   },
   "file_extension": ".py",
   "mimetype": "text/x-python",
   "name": "python",
   "nbconvert_exporter": "python",
   "pygments_lexer": "ipython3",
   "version": "3.9.13"
  }
 },
 "nbformat": 4,
 "nbformat_minor": 5
}
