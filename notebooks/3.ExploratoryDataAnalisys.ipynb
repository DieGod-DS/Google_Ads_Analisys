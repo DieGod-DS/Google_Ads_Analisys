{
 "cells": [
  {
   "cell_type": "markdown",
   "id": "2d971aa4",
   "metadata": {},
   "source": [
    "# Análise Exploratória de Dados"
   ]
  },
  {
   "cell_type": "code",
   "execution_count": 1,
   "id": "61369c03",
   "metadata": {},
   "outputs": [],
   "source": [
    "# importando bibliotecas\n",
    "import os # manipulação de pastas\n",
    "import warnings # exibe avisos\n",
    "import numpy as np # manipulação numérica e matricial\n",
    "import pandas as pd # manipulação de tabelas\n",
    "import seaborn as sns # geração de gráficos\n",
    "import matplotlib.pyplot as plt # geração de gráficos\n",
    "\n",
    "warnings.filterwarnings('ignore')"
   ]
  },
  {
   "cell_type": "code",
   "execution_count": 2,
   "id": "e60fe79e",
   "metadata": {},
   "outputs": [],
   "source": [
    "# importando conjunto de dados\n",
    "df = pd.read_csv('../data/raw/google_ads_data.csv')"
   ]
  },
  {
   "cell_type": "code",
   "execution_count": 32,
   "id": "429d8d9b",
   "metadata": {},
   "outputs": [
    {
     "name": "stdout",
     "output_type": "stream",
     "text": [
      "<class 'pandas.core.frame.DataFrame'>\n",
      "RangeIndex: 2600 entries, 0 to 2599\n",
      "Data columns (total 12 columns):\n",
      " #   Column           Non-Null Count  Dtype  \n",
      "---  ------           --------------  -----  \n",
      " 0   Ad_ID            2600 non-null   object \n",
      " 1   Campaign_Name    2600 non-null   object \n",
      " 2   Clicks           2488 non-null   float64\n",
      " 3   Impressions      2546 non-null   float64\n",
      " 4   Cost             2503 non-null   object \n",
      " 5   Leads            2552 non-null   float64\n",
      " 6   Conversions      2526 non-null   float64\n",
      " 7   Conversion Rate  1974 non-null   float64\n",
      " 8   Sale_Amount      2461 non-null   object \n",
      " 9   Ad_Date          2600 non-null   object \n",
      " 10  Device           2600 non-null   object \n",
      " 11  Keyword          2600 non-null   object \n",
      "dtypes: float64(5), object(7)\n",
      "memory usage: 243.9+ KB\n"
     ]
    }
   ],
   "source": [
    "df.info()"
   ]
  },
  {
   "cell_type": "markdown",
   "id": "98a6925d",
   "metadata": {},
   "source": [
    "----"
   ]
  },
  {
   "cell_type": "markdown",
   "id": "c2caedb3",
   "metadata": {},
   "source": [
    "## 1. Tratamento dos Dados"
   ]
  },
  {
   "cell_type": "code",
   "execution_count": 37,
   "id": "05dd53f7",
   "metadata": {},
   "outputs": [
    {
     "data": {
      "text/html": [
       "<div>\n",
       "<style scoped>\n",
       "    .dataframe tbody tr th:only-of-type {\n",
       "        vertical-align: middle;\n",
       "    }\n",
       "\n",
       "    .dataframe tbody tr th {\n",
       "        vertical-align: top;\n",
       "    }\n",
       "\n",
       "    .dataframe thead th {\n",
       "        text-align: right;\n",
       "    }\n",
       "</style>\n",
       "<table border=\"1\" class=\"dataframe\">\n",
       "  <thead>\n",
       "    <tr style=\"text-align: right;\">\n",
       "      <th></th>\n",
       "      <th>Ad_ID</th>\n",
       "      <th>Campaign_Name</th>\n",
       "      <th>Clicks</th>\n",
       "      <th>Impressions</th>\n",
       "      <th>Cost</th>\n",
       "      <th>Leads</th>\n",
       "      <th>Conversions</th>\n",
       "      <th>Conversion Rate</th>\n",
       "      <th>Sale_Amount</th>\n",
       "      <th>Ad_Date</th>\n",
       "      <th>Device</th>\n",
       "      <th>Keyword</th>\n",
       "    </tr>\n",
       "  </thead>\n",
       "  <tbody>\n",
       "    <tr>\n",
       "      <th>0</th>\n",
       "      <td>A1000</td>\n",
       "      <td>campanha_1</td>\n",
       "      <td>104.0</td>\n",
       "      <td>4498.0</td>\n",
       "      <td>231.88</td>\n",
       "      <td>14.0</td>\n",
       "      <td>7.0</td>\n",
       "      <td>0.058</td>\n",
       "      <td>1892.0</td>\n",
       "      <td>2024-11-16</td>\n",
       "      <td>desktop</td>\n",
       "      <td>learn_data_analytics</td>\n",
       "    </tr>\n",
       "    <tr>\n",
       "      <th>1</th>\n",
       "      <td>A1001</td>\n",
       "      <td>campanha_1</td>\n",
       "      <td>173.0</td>\n",
       "      <td>5107.0</td>\n",
       "      <td>216.84</td>\n",
       "      <td>10.0</td>\n",
       "      <td>8.0</td>\n",
       "      <td>0.046</td>\n",
       "      <td>1679.0</td>\n",
       "      <td>20-11-2024</td>\n",
       "      <td>mobile</td>\n",
       "      <td>data_analytics_course</td>\n",
       "    </tr>\n",
       "    <tr>\n",
       "      <th>2</th>\n",
       "      <td>A1002</td>\n",
       "      <td>campanha_2</td>\n",
       "      <td>90.0</td>\n",
       "      <td>4544.0</td>\n",
       "      <td>203.66</td>\n",
       "      <td>26.0</td>\n",
       "      <td>9.0</td>\n",
       "      <td>NaN</td>\n",
       "      <td>1624.0</td>\n",
       "      <td>2024/11/16</td>\n",
       "      <td>desktop</td>\n",
       "      <td>data_analitics_online</td>\n",
       "    </tr>\n",
       "    <tr>\n",
       "      <th>3</th>\n",
       "      <td>A1003</td>\n",
       "      <td>campanha_3</td>\n",
       "      <td>142.0</td>\n",
       "      <td>3185.0</td>\n",
       "      <td>237.66</td>\n",
       "      <td>17.0</td>\n",
       "      <td>6.0</td>\n",
       "      <td>NaN</td>\n",
       "      <td>1225.0</td>\n",
       "      <td>2024-11-26</td>\n",
       "      <td>tablet</td>\n",
       "      <td>data_anaytics_training</td>\n",
       "    </tr>\n",
       "    <tr>\n",
       "      <th>4</th>\n",
       "      <td>A1004</td>\n",
       "      <td>campanha_4</td>\n",
       "      <td>156.0</td>\n",
       "      <td>3361.0</td>\n",
       "      <td>195.90</td>\n",
       "      <td>30.0</td>\n",
       "      <td>8.0</td>\n",
       "      <td>NaN</td>\n",
       "      <td>1091.0</td>\n",
       "      <td>2024-11-22</td>\n",
       "      <td>desktop</td>\n",
       "      <td>online_data_analytic</td>\n",
       "    </tr>\n",
       "  </tbody>\n",
       "</table>\n",
       "</div>"
      ],
      "text/plain": [
       "   Ad_ID Campaign_Name  Clicks  Impressions    Cost  Leads  Conversions  \\\n",
       "0  A1000    campanha_1   104.0       4498.0  231.88   14.0          7.0   \n",
       "1  A1001    campanha_1   173.0       5107.0  216.84   10.0          8.0   \n",
       "2  A1002    campanha_2    90.0       4544.0  203.66   26.0          9.0   \n",
       "3  A1003    campanha_3   142.0       3185.0  237.66   17.0          6.0   \n",
       "4  A1004    campanha_4   156.0       3361.0  195.90   30.0          8.0   \n",
       "\n",
       "   Conversion Rate  Sale_Amount     Ad_Date   Device                 Keyword  \n",
       "0            0.058       1892.0  2024-11-16  desktop    learn_data_analytics  \n",
       "1            0.046       1679.0  20-11-2024   mobile   data_analytics_course  \n",
       "2              NaN       1624.0  2024/11/16  desktop   data_analitics_online  \n",
       "3              NaN       1225.0  2024-11-26   tablet  data_anaytics_training  \n",
       "4              NaN       1091.0  2024-11-22  desktop    online_data_analytic  "
      ]
     },
     "execution_count": 37,
     "metadata": {},
     "output_type": "execute_result"
    }
   ],
   "source": [
    "df.head()"
   ]
  },
  {
   "cell_type": "code",
   "execution_count": 25,
   "id": "3fe42df2",
   "metadata": {},
   "outputs": [
    {
     "name": "stdout",
     "output_type": "stream",
     "text": [
      "AD_ID\n",
      "A1000    1\n",
      "A2746    1\n",
      "A2728    1\n",
      "A2729    1\n",
      "A2730    1\n",
      "        ..\n",
      "A1868    1\n",
      "A1869    1\n",
      "A1870    1\n",
      "A1871    1\n",
      "A3599    1\n",
      "Name: Ad_ID, Length: 2600, dtype: int64\n",
      "__________________________________________________\n",
      "CAMPAIGN_NAME\n",
      "campanha_3    680\n",
      "campanha_4    647\n",
      "campanha_1    637\n",
      "campanha_2    636\n",
      "Name: Campaign_Name, dtype: int64\n",
      "__________________________________________________\n",
      "CLICKS\n",
      "127.0    34\n",
      "148.0    32\n",
      "89.0     29\n",
      "146.0    28\n",
      "151.0    28\n",
      "         ..\n",
      "107.0    13\n",
      "129.0    13\n",
      "159.0    12\n",
      "161.0    12\n",
      "158.0    11\n",
      "Name: Clicks, Length: 120, dtype: int64\n",
      "__________________________________________________\n",
      "IMPRESSIONS\n",
      "4653.0    6\n",
      "4441.0    5\n",
      "5509.0    5\n",
      "5545.0    5\n",
      "3948.0    5\n",
      "         ..\n",
      "4224.0    1\n",
      "3579.0    1\n",
      "3188.0    1\n",
      "5493.0    1\n",
      "5453.0    1\n",
      "Name: Impressions, Length: 1702, dtype: int64\n",
      "__________________________________________________\n",
      "COST\n",
      "$246.3     4\n",
      "$218.69    4\n",
      "$219.15    4\n",
      "$245.13    4\n",
      "$249.33    4\n",
      "          ..\n",
      "$223.28    1\n",
      "$221.65    1\n",
      "$214.29    1\n",
      "$191.68    1\n",
      "$220.13    1\n",
      "Name: Cost, Length: 2106, dtype: int64\n",
      "__________________________________________________\n",
      "LEADS\n",
      "24.0    134\n",
      "27.0    133\n",
      "23.0    131\n",
      "10.0    129\n",
      "20.0    128\n",
      "15.0    127\n",
      "26.0    126\n",
      "16.0    126\n",
      "25.0    126\n",
      "14.0    125\n",
      "21.0    124\n",
      "12.0    124\n",
      "28.0    120\n",
      "17.0    119\n",
      "30.0    116\n",
      "11.0    114\n",
      "22.0    114\n",
      "19.0    112\n",
      "13.0    112\n",
      "18.0    106\n",
      "29.0    106\n",
      "Name: Leads, dtype: int64\n",
      "__________________________________________________\n",
      "CONVERSIONS\n",
      "7.0     345\n",
      "9.0     330\n",
      "5.0     324\n",
      "4.0     313\n",
      "10.0    306\n",
      "8.0     304\n",
      "6.0     302\n",
      "3.0     302\n",
      "Name: Conversions, dtype: int64\n",
      "__________________________________________________\n",
      "CONVERSION RATE\n",
      "0.036    51\n",
      "0.050    51\n",
      "0.045    51\n",
      "0.037    50\n",
      "0.038    49\n",
      "         ..\n",
      "0.119     2\n",
      "0.114     1\n",
      "0.123     1\n",
      "0.113     1\n",
      "0.109     1\n",
      "Name: Conversion Rate, Length: 105, dtype: int64\n",
      "__________________________________________________\n",
      "SALE_AMOUNT\n",
      "$1719    9\n",
      "$1571    8\n",
      "$1248    8\n",
      "$1234    8\n",
      "$1555    8\n",
      "        ..\n",
      "$1968    1\n",
      "$1944    1\n",
      "$1913    1\n",
      "$1277    1\n",
      "$1702    1\n",
      "Name: Sale_Amount, Length: 921, dtype: int64\n",
      "__________________________________________________\n",
      "AD_DATE\n",
      "2024-11-14    47\n",
      "2024-11-26    41\n",
      "2024-11-05    41\n",
      "2024/11/20    39\n",
      "2024/11/18    39\n",
      "              ..\n",
      "2024-11-17    20\n",
      "07-11-2024    19\n",
      "2024-11-06    19\n",
      "2024/11/30    16\n",
      "2024/11/29    15\n",
      "Name: Ad_Date, Length: 90, dtype: int64\n",
      "__________________________________________________\n",
      "DEVICE\n",
      "desktop    888\n",
      "mobile     878\n",
      "tablet     834\n",
      "Name: Device, dtype: int64\n",
      "__________________________________________________\n",
      "KEYWORD\n",
      "online_data_analytic      453\n",
      "learn_data_analytics      444\n",
      "data_analytics_course     440\n",
      "analytics_for_data        429\n",
      "data_analitics_online     420\n",
      "data_anaytics_training    414\n",
      "Name: Keyword, dtype: int64\n",
      "__________________________________________________\n"
     ]
    }
   ],
   "source": [
    "# visualização das categorias\n",
    "for col in df.columns:\n",
    "    print(col.upper())\n",
    "    print(df[col].value_counts())\n",
    "    print('_'*50)"
   ]
  },
  {
   "cell_type": "markdown",
   "id": "959335f2",
   "metadata": {},
   "source": [
    "**Observações:**\n",
    "- Notamos que na variável `Campaing_Name` as 4 campanhas possuem o mesmo nome, porém com escrituras diferentes. Apesar do mesmo nome, não devem ser a mesma campanha e sim campanhas distintas, afinal nosso trabalho é fazer a análise de qual tem a melhor perfomance. Dito isso, a forma que optarei para corrigir será substituindo os nomes por \"Campanha 1\", \"Campanha 2\" e sucessivamente.\n",
    "- Em `Location` vemos que a localização é no mesmo lugar em todas as campanhas: Hyderabad (Capital e maior cidade do estado indiano de Tengala). Sabendo disso, ao invés de tratar os caracteres da coluna, podemos simplesmente remove-la já que se aplica a todos os registros e não tem variância, não adiciona informação para a análise de performance, além de economizar memória e torna o conjunto de dados mais limpo.\n",
    "- O tipo de dispositivo em `Device` está com valores diferentes para cada categoria, poderemos resolver corrigindo os caracteres e agregando-os.\n",
    "- As keywords parecem não haver um ádrão definido, porém é uma estratégia de marketing testar combinações diferentes de palavras-chave, para ver se há impacto sobre as campanhas. O que podemos fazer futuramente antes de treinar um modelo de machine learning, é separar cada uma das palavras em variáveis diferentes para ver se uma tem mais impacto que outra.\n"
   ]
  },
  {
   "cell_type": "markdown",
   "id": "1f15f94a",
   "metadata": {},
   "source": [
    "**Removendo a coluna Location**"
   ]
  },
  {
   "cell_type": "code",
   "execution_count": 15,
   "id": "012b3a06",
   "metadata": {},
   "outputs": [],
   "source": [
    "df.drop(columns='Location', axis=1, inplace=True)"
   ]
  },
  {
   "cell_type": "markdown",
   "id": "616856bc",
   "metadata": {},
   "source": [
    "**Tratando o Nome da Campanha**"
   ]
  },
  {
   "cell_type": "code",
   "execution_count": 14,
   "id": "637e1c5c",
   "metadata": {},
   "outputs": [
    {
     "data": {
      "text/plain": [
       "campanha_3    680\n",
       "campanha_4    647\n",
       "campanha_1    637\n",
       "campanha_2    636\n",
       "Name: Campaign_Name, dtype: int64"
      ]
     },
     "execution_count": 14,
     "metadata": {},
     "output_type": "execute_result"
    }
   ],
   "source": [
    "# Listando os valores únicos\n",
    "campanha_unic = df['Campaign_Name'].unique()\n",
    "\n",
    "# criando um dicionário de mapeamento\n",
    "mapa = {\n",
    "    campanha_unic[0]: 'campanha_1',\n",
    "    campanha_unic[1]: 'campanha_2',\n",
    "    campanha_unic[2]: 'campanha_3',\n",
    "    campanha_unic[3]: 'campanha_4'\n",
    "}\n",
    "\n",
    "# aplicando a substituição\n",
    "df['Campaign_Name'] = df['Campaign_Name'].map(mapa)\n",
    "\n",
    "df['Campaign_Name'].value_counts()"
   ]
  },
  {
   "cell_type": "markdown",
   "id": "8db3b42a",
   "metadata": {},
   "source": [
    "**Tratando os Tipos de Dispsitivos**"
   ]
  },
  {
   "cell_type": "code",
   "execution_count": null,
   "id": "8a6c6507",
   "metadata": {},
   "outputs": [],
   "source": [
    "# padroniza os caracteres em minusculo\n",
    "df['Device'] = df['Device'].apply(lambda x: x.lower())"
   ]
  },
  {
   "cell_type": "code",
   "execution_count": 20,
   "id": "88c572a2",
   "metadata": {},
   "outputs": [
    {
     "data": {
      "text/plain": [
       "desktop    888\n",
       "mobile     878\n",
       "tablet     834\n",
       "Name: Device, dtype: int64"
      ]
     },
     "execution_count": 20,
     "metadata": {},
     "output_type": "execute_result"
    }
   ],
   "source": [
    "df.Device.value_counts()"
   ]
  },
  {
   "cell_type": "markdown",
   "id": "648c0cb1",
   "metadata": {},
   "source": [
    "**Tratando Keywords**"
   ]
  },
  {
   "cell_type": "code",
   "execution_count": null,
   "id": "b2df93fe",
   "metadata": {},
   "outputs": [],
   "source": [
    "# substitui os espaçamentos em cadacategoria por \"_\"\n",
    "df['Keyword'] = df['Keyword'].apply(lambda x: x.replace(' ', '_'))"
   ]
  },
  {
   "cell_type": "markdown",
   "id": "f1b3a13f",
   "metadata": {},
   "source": [
    " **Tratando Inconcistências em Variáveis Financeiras**"
   ]
  },
  {
   "cell_type": "code",
   "execution_count": null,
   "id": "bee8f586",
   "metadata": {},
   "outputs": [],
   "source": [
    "# lista as variáveis financeiras\n",
    "fin = ['Cost', 'Sale_Amount']\n",
    "\n",
    "# itera sobre cada uma das variáveis\n",
    "for col in df[fin]:\n",
    "    # remove caractere \"$\"\n",
    "    df[col] = df[col].str.replace('$', '', regex=False)\n",
    "    # formata os valores numéricos para o tipo float\n",
    "    df[col] = df[col].astype(float)"
   ]
  },
  {
   "cell_type": "markdown",
   "id": "ca62f88b",
   "metadata": {},
   "source": [
    "**Corrigindo variável Data**\n",
    "\n",
    "- Algumas datas estão no formato YYYY-MM-DD, outras no formato DD-MM-YYYY.\n",
    "- Precisamos primeiro padronizar para um único formato e depois converter para o `datetime` do Pandas."
   ]
  },
  {
   "cell_type": "code",
   "execution_count": null,
   "id": "c5d54b2d",
   "metadata": {},
   "outputs": [
    {
     "data": {
      "text/html": [
       "<div>\n",
       "<style scoped>\n",
       "    .dataframe tbody tr th:only-of-type {\n",
       "        vertical-align: middle;\n",
       "    }\n",
       "\n",
       "    .dataframe tbody tr th {\n",
       "        vertical-align: top;\n",
       "    }\n",
       "\n",
       "    .dataframe thead th {\n",
       "        text-align: right;\n",
       "    }\n",
       "</style>\n",
       "<table border=\"1\" class=\"dataframe\">\n",
       "  <thead>\n",
       "    <tr style=\"text-align: right;\">\n",
       "      <th></th>\n",
       "      <th>Ad_ID</th>\n",
       "      <th>Campaign_Name</th>\n",
       "      <th>Clicks</th>\n",
       "      <th>Impressions</th>\n",
       "      <th>Cost</th>\n",
       "      <th>Leads</th>\n",
       "      <th>Conversions</th>\n",
       "      <th>Conversion Rate</th>\n",
       "      <th>Sale_Amount</th>\n",
       "      <th>Ad_Date</th>\n",
       "      <th>Device</th>\n",
       "      <th>Keyword</th>\n",
       "    </tr>\n",
       "  </thead>\n",
       "  <tbody>\n",
       "  </tbody>\n",
       "</table>\n",
       "</div>"
      ],
      "text/plain": [
       "Empty DataFrame\n",
       "Columns: [Ad_ID, Campaign_Name, Clicks, Impressions, Cost, Leads, Conversions, Conversion Rate, Sale_Amount, Ad_Date, Device, Keyword]\n",
       "Index: []"
      ]
     },
     "execution_count": 45,
     "metadata": {},
     "output_type": "execute_result"
    }
   ],
   "source": [
    "# tentando converter diretamente todos os valores\n",
    "df['Ad_Date'] = pd.to_datetime(df['Ad_Date'], errors='coerce', dayfirst=False)\n",
    "\n",
    "# identificando datas que falharam\n",
    "erros = df[df['Ad_Date'].isna()]\n",
    "\n",
    "# para as datas que fallharam, tentar converter novamente\n",
    "df.loc[df['Ad_Date'].isna(), 'Ad_Date'] = pd.to_datetime(\n",
    "    df.loc[df['Ad_Date'].isna(), 'Ad_Date'], errors='coerce', dayfirst=True\n",
    ")\n",
    "\n",
    "# conferindo se ainda há falhas\n",
    "df[df['Ad_Date'].isna()]"
   ]
  },
  {
   "cell_type": "markdown",
   "id": "8c2931ae",
   "metadata": {},
   "source": [
    "**Tratando Valores Nulos**"
   ]
  },
  {
   "cell_type": "code",
   "execution_count": 47,
   "id": "b40eec1e",
   "metadata": {},
   "outputs": [
    {
     "data": {
      "text/plain": [
       "Ad_ID                0\n",
       "Campaign_Name        0\n",
       "Clicks             112\n",
       "Impressions         54\n",
       "Cost                97\n",
       "Leads               48\n",
       "Conversions         74\n",
       "Conversion Rate    626\n",
       "Sale_Amount        139\n",
       "Ad_Date              0\n",
       "Device               0\n",
       "Keyword              0\n",
       "dtype: int64"
      ]
     },
     "execution_count": 47,
     "metadata": {},
     "output_type": "execute_result"
    }
   ],
   "source": [
    "df.isnull().sum()"
   ]
  },
  {
   "cell_type": "markdown",
   "id": "d3263be3",
   "metadata": {},
   "source": [
    "**Observações:**\n",
    "- Possuímos valores nulos em: Cliques, impressões, custo, leads, conversões, taxa de conversão, valor da venda.\n",
    "- 112 anúncios estão com dados nulos em cliques, faz sentido? Pode ser que esses valores ausentes não sejam por inconsistência, e sim por que não geraram cliques mesmo. Podemos substituir os valores nulos por \"0\" e posteriormente fazer uma análise das campanhas que não geraram cliques e abstrair algum insight.\n",
    "- Temos também 54 anúncios com impressões nulas, por que? Seria devido ao fato de que realmente não houveram as impressões ou apenas inconcistência? Faz sentido para o negócio? Assim como em Cliques, iremos substituir por \"0\" para uma análise futura.\n",
    "- No caso dos nulos em Custo do anúncio, seria tambem o fator inconsistência? Pode ser anúncios em fase de espera de aprovação, problemas de pagamento ou até mesmo não ter gerado nenhum resultado mensurável.\n",
    "- As mesmas questões acima se aplicam para a variável de Conversão.\n",
    "- 626 nulos em Taxa de Conversão aparenta ser estranho, principalmente em um conjunto de dados com apenas 2600 registros. Aqui pode haver de fato uma inconcistência nos dados.\n",
    "- Em Sale_Amount temos 139 nulos, mas como essa variável determina a receita gerada após a conversão, podemos supor que as conversões em específico não foram de vendas, e talvez Leads.\n",
    "\n",
    "Antes de remover qualquer valor desses, iremos conferir se de fato é uma inconcistência ou apenas falta de tratamento."
   ]
  },
  {
   "cell_type": "code",
   "execution_count": null,
   "id": "b34763c8",
   "metadata": {},
   "outputs": [],
   "source": []
  }
 ],
 "metadata": {
  "kernelspec": {
   "display_name": "base",
   "language": "python",
   "name": "python3"
  },
  "language_info": {
   "codemirror_mode": {
    "name": "ipython",
    "version": 3
   },
   "file_extension": ".py",
   "mimetype": "text/x-python",
   "name": "python",
   "nbconvert_exporter": "python",
   "pygments_lexer": "ipython3",
   "version": "3.9.13"
  }
 },
 "nbformat": 4,
 "nbformat_minor": 5
}
