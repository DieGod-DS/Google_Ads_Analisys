{
 "cells": [
  {
   "cell_type": "markdown",
   "id": "fa97180e",
   "metadata": {},
   "source": [
    "# Entendimento de Negócio\n",
    "\n",
    "**1. Objetivo do Projeto:** \n",
    "\n",
    "Este projeto tem como finalidade simular uo trabalho de um cientista de dados em uma equipe de marketing digital, com foco em campanhas vinculadas no Google Ads. A base dos dados fornecida representa um cenário realista, com informações brutas e inconsistentes, permitindo a aplicação de técnicas de limpeza de dados, análise exploratória, extração de insights relevantes para o negócio e machine learning.\n",
    "\n",
    "**2. Contexto de Negócio:**\n",
    "\n",
    "A empresa fictícia promove cursos e serviçoes relacionados à análise de dados por meio de anúncios pagos no Google Ads. Cada registro na base apresenta uma instância de exibição de um anúncio, contento informações como:\n",
    "- ID e nome da campanha;\n",
    "- Número de clices, impressões e conversões;\n",
    "- Regeita gerada;\n",
    "- Custo do anúncio;\n",
    "- Palavras-chave acionada;\n",
    "- Dispositivo e canal de vinculação;\n",
    "- Data da campanha.\n",
    "\n",
    "**3. Perguntas Norteadoras da Análise:**\n",
    "- Quais campanhas apresentam melhor desempenho em termos de conversões e receita?\n",
    "- Quais palavras-chave estão associadas aos melhores resultados?\n",
    "- Quais canais têm maior impacto nas conversões?\n",
    "- Qual o custo médio por conversão nas campanhas ativas?\n",
    "- Há inconsistências nos dados que impactam a confiabilidade das métricas?\n",
    "\n",
    "**4. Objetivos de Negócio:**\n",
    "- Diagnosticar campanhs com baixo desempenho ou custo elevado;\n",
    "- Identificar oportunidades de otimização de investimento em mídia paga;\n",
    "- Detectar erros operacionais que comprometem a coleta e análise de dados;\n",
    "- Apoiar a tomada de decisão estratégica com base em evidências.\n",
    "\n",
    "**5. Resultados Esperados:**\n",
    "- Limpeza completa dos dados com tratamento de erros, duplicações e padronizações;\n",
    "- Visualizações claras e informativas sobre o desempenho das campanhas;\n",
    "- Relatórios com insights práticos para área de marketing;\n",
    "- Dashboard interativo para acompanhamento de KPI's"
   ]
  }
 ],
 "metadata": {
  "language_info": {
   "name": "python"
  }
 },
 "nbformat": 4,
 "nbformat_minor": 5
}
